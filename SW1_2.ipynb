{
 "cells": [
  {
   "cell_type": "markdown",
   "id": "e50716da-6010-4218-a3ce-1ca706f31466",
   "metadata": {},
   "source": [
    "# Seatwork 1.2 Practice Set 2\n",
    "Flow Control. Submitted by Daryll Jose"
   ]
  },
  {
   "cell_type": "markdown",
   "id": "3ba2e9fc-2c6c-4a12-939c-d5d946e60728",
   "metadata": {},
   "source": [
    "## 1. Create a Python notebook and answer the following task below.\n",
    "## 2. Make sure to submit only the link of your notebook.\n",
    "## 3. Tasks:"
   ]
  },
  {
   "cell_type": "markdown",
   "id": "3b446075-62eb-4333-adab-5b0dbfca32ae",
   "metadata": {},
   "source": [
    "### 3.1. Ask the user for a number, print only the even numbers in the range from 0 until the user specified number."
   ]
  },
  {
   "cell_type": "code",
   "execution_count": 38,
   "id": "c8346b71-5cb4-4895-9346-22237ba2c5ad",
   "metadata": {},
   "outputs": [
    {
     "name": "stdin",
     "output_type": "stream",
     "text": [
      "Input a positive number: 10\n"
     ]
    },
    {
     "name": "stdout",
     "output_type": "stream",
     "text": [
      "0\n",
      "2\n",
      "4\n",
      "6\n",
      "8\n",
      "\n",
      "0\n",
      "2\n",
      "4\n",
      "6\n",
      "8\n"
     ]
    }
   ],
   "source": [
    "m = int(input(\"Input a positive number:\"))\n",
    "\n",
    "# For-loop\n",
    "for i in range(m):\n",
    "    if i % 2 == 0:\n",
    "        print(i)\n",
    "\n",
    "print()\n",
    "# While-loop\n",
    "j = 0\n",
    "listVal = range(m)\n",
    "\n",
    "while j < m: # Assuming input is always more than 0\n",
    "    if listVal[j] % 2 == 0:\n",
    "        print(listVal[j])\n",
    "    j += 1"
   ]
  },
  {
   "cell_type": "markdown",
   "id": "dd253a3c-89bd-4ad3-b9a0-31815791ed44",
   "metadata": {},
   "source": [
    "### 3.2. Ask the user input value n, then if a number is a valid divisor of n, print the number. E.g. If input value is 5, 5 is divisible by what numbers?"
   ]
  },
  {
   "cell_type": "code",
   "execution_count": 17,
   "id": "f4ff8a26-8659-4c0b-8110-b5c88f0da105",
   "metadata": {},
   "outputs": [
    {
     "name": "stdin",
     "output_type": "stream",
     "text": [
      "Enter a number:  5\n"
     ]
    },
    {
     "name": "stdout",
     "output_type": "stream",
     "text": [
      "1\n",
      "5\n",
      "1\n",
      "5\n"
     ]
    }
   ],
   "source": [
    "n = int(input(\"Enter a positive number:\"))\n",
    "\n",
    "# For-loop\n",
    "for i in range(1, n + 1):\n",
    "    if n % i == 0:\n",
    "        print(i)\n",
    "\n",
    "print()\n",
    "# While-loop\n",
    "j = 0\n",
    "divisors = range(1, n + 1)\n",
    "\n",
    "while j < n: # Assuming input is always more than 0\n",
    "    if n % divisors[j] == 0:\n",
    "        print(divisors[j])\n",
    "    j += 1\n"
   ]
  },
  {
   "cell_type": "markdown",
   "id": "21c62e1d-8a56-496c-94e6-301b084c7be5",
   "metadata": {},
   "source": [
    "### 3.3. Write the factorial of a number (user defined value) with the different looping structures explored in the class."
   ]
  },
  {
   "cell_type": "code",
   "execution_count": 39,
   "id": "39097aaf-bf14-4f67-87bc-929240ea1726",
   "metadata": {},
   "outputs": [
    {
     "name": "stdin",
     "output_type": "stream",
     "text": [
      "Type a positive number to factor: 0\n"
     ]
    },
    {
     "name": "stdout",
     "output_type": "stream",
     "text": [
      "For-loop Factorial: 1\n",
      "While-loop Factorial: 1\n"
     ]
    }
   ],
   "source": [
    "f = int(input(\"Type a positive number to factor:\"))\n",
    "\n",
    "# For-loop\n",
    "totalFor = 1 # The initialization is not 0 since the factorial of zero is 1.\n",
    "for i in range(1, f + 1):\n",
    "    totalFor *= i\n",
    "print(f\"For-loop Factorial: {totalFor}\")\n",
    "\n",
    "# While-loop\n",
    "totalWhile = 1 # The initialization is not 0 since the factorial of zero is 1.\n",
    "j = 1\n",
    "while j <= f:\n",
    "    totalWhile *= j\n",
    "    j += 1\n",
    "print(f\"While-loop Factorial: {totalWhile}\")"
   ]
  }
 ],
 "metadata": {
  "kernelspec": {
   "display_name": "Python 3 (ipykernel)",
   "language": "python",
   "name": "python3"
  },
  "language_info": {
   "codemirror_mode": {
    "name": "ipython",
    "version": 3
   },
   "file_extension": ".py",
   "mimetype": "text/x-python",
   "name": "python",
   "nbconvert_exporter": "python",
   "pygments_lexer": "ipython3",
   "version": "3.12.7"
  }
 },
 "nbformat": 4,
 "nbformat_minor": 5
}
