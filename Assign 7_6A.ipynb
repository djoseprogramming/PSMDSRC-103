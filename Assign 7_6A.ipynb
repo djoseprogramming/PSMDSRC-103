{
 "cells": [
  {
   "cell_type": "code",
   "execution_count": 2,
   "id": "3202ebc2-9d45-443c-afb9-735a624ec5f7",
   "metadata": {},
   "outputs": [],
   "source": [
    "# Data Gathering"
   ]
  },
  {
   "cell_type": "code",
   "execution_count": 3,
   "id": "f8f2642a-acbb-4dc0-b964-b48fce0f36ad",
   "metadata": {},
   "outputs": [],
   "source": [
    "##  Example of gathering upload and download from the speedtest command."
   ]
  },
  {
   "cell_type": "code",
   "execution_count": 4,
   "id": "7fbddfc9-cd73-40a2-aec3-1d1b2f5af16e",
   "metadata": {},
   "outputs": [
    {
     "name": "stdout",
     "output_type": "stream",
     "text": [
      "Requirement already satisfied: speedtest-cli in c:\\users\\daryll\\anaconda3\\lib\\site-packages (2.1.3)\n"
     ]
    }
   ],
   "source": [
    "!pip install speedtest-cli"
   ]
  },
  {
   "cell_type": "code",
   "execution_count": 5,
   "id": "71e1a8e8-032c-413d-94a2-513a5ae716c8",
   "metadata": {},
   "outputs": [],
   "source": [
    "import datetime\n",
    "# Python library to read and write csv files\n",
    "import csv\n",
    "import subprocess"
   ]
  },
  {
   "cell_type": "code",
   "execution_count": 6,
   "id": "4a66227e-b893-49c6-9577-ff65b96f6a84",
   "metadata": {},
   "outputs": [
    {
     "name": "stdout",
     "output_type": "stream",
     "text": [
      "2025-04-26 20:04:32.558684 <class 'datetime.datetime'>\n"
     ]
    }
   ],
   "source": [
    "date_time = datetime.datetime.now()\n",
    "print(date_time, type(date_time))"
   ]
  },
  {
   "cell_type": "code",
   "execution_count": 7,
   "id": "53142c97-10f3-4460-b06d-109fb008692e",
   "metadata": {},
   "outputs": [
    {
     "data": {
      "text/plain": [
       "'Sat, 26 Apr 2025 20:04:32'"
      ]
     },
     "execution_count": 7,
     "metadata": {},
     "output_type": "execute_result"
    }
   ],
   "source": [
    "date_time.strftime('%a, %d %b %Y %H:%M:%S')"
   ]
  },
  {
   "cell_type": "code",
   "execution_count": 8,
   "id": "ee61da82-35ad-46c1-8b99-6a2d842c0b90",
   "metadata": {},
   "outputs": [
    {
     "data": {
      "text/plain": [
       "'2025-04-26 20:04:32'"
      ]
     },
     "execution_count": 8,
     "metadata": {},
     "output_type": "execute_result"
    }
   ],
   "source": [
    "# Parse datetime string into format: YYYY-MM-DD HH:MM::SS\n",
    "date_time.strftime('%Y-%m-%d %H:%M:%S')"
   ]
  },
  {
   "cell_type": "code",
   "execution_count": 9,
   "id": "2b101823-a3a2-4593-8daf-d2caa129e646",
   "metadata": {},
   "outputs": [],
   "source": [
    "# This string contains the command line to interface with speedtest.net\n",
    "speedtest_cmd = \"speedtest-cli --simple\"\n",
    "# Execute the process\n",
    "process = subprocess.Popen(speedtest_cmd.split(), stdout=subprocess.PIPE)\n",
    "# Collect the command output\n",
    "process_output = process.communicate()[0]"
   ]
  },
  {
   "cell_type": "code",
   "execution_count": 10,
   "id": "5caf424f-357b-49f3-824b-e931b13da8eb",
   "metadata": {},
   "outputs": [
    {
     "name": "stdout",
     "output_type": "stream",
     "text": [
      "b'Ping: 25.735 ms\\r\\nDownload: 88.69 Mbit/s\\r\\nUpload: 116.21 Mbit/s\\r\\n' <class 'bytes'>\n"
     ]
    }
   ],
   "source": [
    "print(process_output, type(process_output))"
   ]
  },
  {
   "cell_type": "code",
   "execution_count": 11,
   "id": "6b7546fa-44a1-46eb-a2ed-b1cb153d309b",
   "metadata": {},
   "outputs": [
    {
     "name": "stdout",
     "output_type": "stream",
     "text": [
      "[b'Ping:', b'25.735', b'ms', b'Download:', b'88.69', b'Mbit/s', b'Upload:', b'116.21', b'Mbit/s', '2025-04-26 20:04:55'] <class 'list'>\n"
     ]
    }
   ],
   "source": [
    "# Store the time at which the speedtest was executed\n",
    "date_time = datetime.datetime.now().strftime(\"%Y-%m-%d %H:%M:%S\")\n",
    "process_output = process_output.split()\n",
    "process_output.append(date_time)\n",
    "print(process_output, type(process_output))"
   ]
  },
  {
   "cell_type": "code",
   "execution_count": 12,
   "id": "c9322549-6cf2-4ddd-aac1-750abaf5fd19",
   "metadata": {},
   "outputs": [],
   "source": [
    "# function to excute the speed test\n",
    "def speedtest():\n",
    "    # We need to store the time at which the speedtest was executed\n",
    "    date_time = datetime.datetime.now().strftime(\"%Y-%m-%d %H:%M:%S\")\n",
    "    # This is a string that contains what we would write on the command line \n",
    "    #to interface with speedtest.net\n",
    "    speedtest_cmd = \"speedtest-cli --simple\"\n",
    "    # We now execute the process: \n",
    "    process = subprocess.Popen(speedtest_cmd.split(), stdout=subprocess.PIPE)\n",
    "    process_output = process.communicate()[0]\n",
    "    process_output = process_output.split()\n",
    "    # and we add the date and time \n",
    "    process_output.append(date_time)\n",
    "    return process_output"
   ]
  },
  {
   "cell_type": "code",
   "execution_count": 13,
   "id": "41db93ea-a473-492d-98f0-f4bde4e35df2",
   "metadata": {},
   "outputs": [
    {
     "data": {
      "text/plain": [
       "[b'Ping:',\n",
       " b'25.735',\n",
       " b'ms',\n",
       " b'Download:',\n",
       " b'88.69',\n",
       " b'Mbit/s',\n",
       " b'Upload:',\n",
       " b'116.21',\n",
       " b'Mbit/s',\n",
       " '2025-04-26 20:04:55']"
      ]
     },
     "execution_count": 13,
     "metadata": {},
     "output_type": "execute_result"
    }
   ],
   "source": [
    "process_output"
   ]
  },
  {
   "cell_type": "code",
   "execution_count": 14,
   "id": "0ff3692c-7f93-4c1c-82f0-546b47703c59",
   "metadata": {},
   "outputs": [],
   "source": [
    "with open(\"test.txt\",'w') as f:\n",
    "    f.write('test_msg')"
   ]
  },
  {
   "cell_type": "code",
   "execution_count": 15,
   "id": "f49566bb-fb62-40af-856c-5d5f0590c46a",
   "metadata": {},
   "outputs": [
    {
     "name": "stdout",
     "output_type": "stream",
     "text": [
      "test_msg\n"
     ]
    }
   ],
   "source": [
    "with open(\"test.txt\",'r') as f:\n",
    "   str = f.read()\n",
    "print(str)"
   ]
  },
  {
   "cell_type": "code",
   "execution_count": 16,
   "id": "8714a6b8-22d3-4ac7-a93f-b9d62fdb5c33",
   "metadata": {},
   "outputs": [],
   "source": [
    "# function to save data to csv\n",
    "def save_to_csv(data, filename):\n",
    "    try:\n",
    "        # If the file exists, we want to append a new line to it, with the \n",
    "        #results of the current experiment\n",
    "        with open(filename + '.csv', 'a') as f:\n",
    "            wr = csv.writer(f)\n",
    "            wr.writerow(data)\n",
    "    except:\n",
    "        # If it does not exist, we want to create the file first\n",
    "        with open(filename + '.csv', 'w') as f:\n",
    "            wr = csv.writer(f)\n",
    "            wr.writerow(data)"
   ]
  },
  {
   "cell_type": "code",
   "execution_count": 17,
   "id": "e21ced16-1dbf-4664-9ec3-403e9e1d3d3f",
   "metadata": {},
   "outputs": [],
   "source": [
    "def print_from_csv(filename): \n",
    "    with open(filename + '.csv', 'r') as f:\n",
    "            re = csv.reader(f)\n",
    "            for row in re:\n",
    "                print(' '.join(row))"
   ]
  },
  {
   "cell_type": "code",
   "execution_count": 54,
   "id": "54f07df5-2612-40f7-87b8-66d81ebfd4c2",
   "metadata": {},
   "outputs": [
    {
     "name": "stdout",
     "output_type": "stream",
     "text": [
      "Test number 0\n",
      "['Ping:', '21.117', 'ms', 'Download:', '78.19', 'Mbit/s', 'Upload:', '116.83', 'Mbit/s', '2025-04-26 20:24:42']\n",
      "Test number 1\n",
      "['Ping:', '28.315', 'ms', 'Download:', '82.64', 'Mbit/s', 'Upload:', '117.64', 'Mbit/s', '2025-04-26 20:25:07']\n",
      "Test number 2\n",
      "['Ping:', '19.427', 'ms', 'Download:', '78.11', 'Mbit/s', 'Upload:', '117.03', 'Mbit/s', '2025-04-26 20:25:30']\n",
      "Test number 3\n",
      "['Ping:', '21.908', 'ms', 'Download:', '81.82', 'Mbit/s', 'Upload:', '115.98', 'Mbit/s', '2025-04-26 20:25:53']\n",
      "Test number 4\n",
      "['Ping:', '33.998', 'ms', 'Download:', '67.25', 'Mbit/s', 'Upload:', '102.75', 'Mbit/s', '2025-04-26 20:26:17']\n"
     ]
    }
   ],
   "source": [
    "for i in range(5):\n",
    "    speedtest_output = speedtest()\n",
    "    print('Test number {}'.format(i))\n",
    "    \n",
    "    # Decode byte data if necessary\n",
    "    decoded_output = [item.decode('utf-8') if isinstance(item, bytes) else item for item in speedtest_output]\n",
    "    \n",
    "    print(decoded_output)\n",
    "    save_to_csv(decoded_output, 'C:/Users/Daryll/OneDrive/Desktop/DataScience/PSMDS_RC103_Programming/Activities/7/data/rpi_data_test')"
   ]
  },
  {
   "cell_type": "code",
   "execution_count": 60,
   "id": "45d3459a-3d77-47f7-8169-fae4c6ea1346",
   "metadata": {},
   "outputs": [
    {
     "name": "stdout",
     "output_type": "stream",
     "text": [
      "Ping: 21.117 ms Download: 78.19 Mbit/s Upload: 116.83 Mbit/s 26/04/2025 20:24\n",
      "Ping: 28.315 ms Download: 82.64 Mbit/s Upload: 117.64 Mbit/s 26/04/2025 20:25\n",
      "Ping: 19.427 ms Download: 78.11 Mbit/s Upload: 117.03 Mbit/s 26/04/2025 20:25\n",
      "Ping: 21.908 ms Download: 81.82 Mbit/s Upload: 115.98 Mbit/s 26/04/2025 20:25\n",
      "Ping: 33.998 ms Download: 67.25 Mbit/s Upload: 102.75 Mbit/s 26/04/2025 20:26\n"
     ]
    }
   ],
   "source": [
    "print_from_csv('C:/Users/Daryll/OneDrive/Desktop/DataScience/PSMDS_RC103_Programming/Activities/7/data/rpi_data_test')"
   ]
  },
  {
   "cell_type": "code",
   "execution_count": 36,
   "id": "6a97766a-0644-41cf-be5d-1f631db1b5fb",
   "metadata": {},
   "outputs": [
    {
     "name": "stdout",
     "output_type": "stream",
     "text": [
      "Requirement already satisfied: opencv-python in c:\\users\\daryll\\anaconda3\\lib\\site-packages (4.11.0.86)\n",
      "Requirement already satisfied: numpy>=1.21.2 in c:\\users\\daryll\\anaconda3\\lib\\site-packages (from opencv-python) (1.26.4)\n"
     ]
    }
   ],
   "source": [
    "!pip install opencv-python"
   ]
  },
  {
   "cell_type": "code",
   "execution_count": 37,
   "id": "b9784461-4f2e-493c-b6ae-48fcb642c62a",
   "metadata": {},
   "outputs": [],
   "source": [
    "## Example of gathering image data using webcam"
   ]
  },
  {
   "cell_type": "code",
   "execution_count": 38,
   "id": "60c02502-6950-4a9a-89c1-8b86fa28822e",
   "metadata": {},
   "outputs": [
    {
     "data": {
      "text/plain": [
       "'\\nimport cv2 \\nfrom google.colab.patches import cv2_imshow\\n\\nkey = cv2. waitKey(1)\\nwebcam = cv2.VideoCapture(0)\\n\\nwhile True:\\n    try:\\n        check, frame = webcam.read()\\n        print(check) #prints true as long as the webcam is running\\n        print(frame) #prints matrix values of each framecd \\n        cv2.imshow(\"Capturing\", frame)\\n        key = cv2.waitKey(1)\\n        if key == ord(\\'s\\'): \\n            cv2.imwrite(filename=\\'saved_img.jpg\\', img=frame)\\n            webcam.release()\\n            img_new = cv2.imread(\\'saved_img.jpg\\', cv2.IMREAD_GRAYSCALE)\\n            img_new = cv2.imshow(\"Captured Image\", img_new)\\n            cv2.waitKey(1650)\\n            cv2.destroyAllWindows()\\n            print(\"Processing image...\")\\n            img_ = cv2.imread(\\'saved_img.jpg\\', cv2.IMREAD_ANYCOLOR)\\n            print(\"Converting RGB image to grayscale...\")\\n            gray = cv2.cvtColor(img_, cv2.COLOR_BGR2GRAY)\\n            print(\"Converted RGB image to grayscale...\")\\n            print(\"Resizing image to 28x28 scale...\")\\n            img_ = cv2.resize(gray,(28,28))\\n            print(\"Resized...\")\\n            img_resized = cv2.imwrite(filename=\\'saved_img-final.jpg\\', img=img_)\\n            print(\"Image saved!\")\\n        \\n            break\\n        elif key == ord(\\'q\\'):\\n            print(\"Turning off camera.\")\\n            webcam.release()\\n            print(\"Camera off.\")\\n            print(\"Program ended.\")\\n            cv2.destroyAllWindows()\\n            break\\n        \\n    except(KeyboardInterrupt):\\n        print(\"Turning off camera.\")\\n        webcam.release()\\n        print(\"Camera off.\")\\n        print(\"Program ended.\")\\n        cv2.destroyAllWindows()\\n        break\\n'"
      ]
     },
     "execution_count": 38,
     "metadata": {},
     "output_type": "execute_result"
    }
   ],
   "source": [
    "\"\"\"\n",
    "import cv2 \n",
    "from google.colab.patches import cv2_imshow\n",
    "\n",
    "key = cv2. waitKey(1)\n",
    "webcam = cv2.VideoCapture(0)\n",
    "\n",
    "while True:\n",
    "    try:\n",
    "        check, frame = webcam.read()\n",
    "        print(check) #prints true as long as the webcam is running\n",
    "        print(frame) #prints matrix values of each framecd \n",
    "        cv2.imshow(\"Capturing\", frame)\n",
    "        key = cv2.waitKey(1)\n",
    "        if key == ord('s'): \n",
    "            cv2.imwrite(filename='saved_img.jpg', img=frame)\n",
    "            webcam.release()\n",
    "            img_new = cv2.imread('saved_img.jpg', cv2.IMREAD_GRAYSCALE)\n",
    "            img_new = cv2.imshow(\"Captured Image\", img_new)\n",
    "            cv2.waitKey(1650)\n",
    "            cv2.destroyAllWindows()\n",
    "            print(\"Processing image...\")\n",
    "            img_ = cv2.imread('saved_img.jpg', cv2.IMREAD_ANYCOLOR)\n",
    "            print(\"Converting RGB image to grayscale...\")\n",
    "            gray = cv2.cvtColor(img_, cv2.COLOR_BGR2GRAY)\n",
    "            print(\"Converted RGB image to grayscale...\")\n",
    "            print(\"Resizing image to 28x28 scale...\")\n",
    "            img_ = cv2.resize(gray,(28,28))\n",
    "            print(\"Resized...\")\n",
    "            img_resized = cv2.imwrite(filename='saved_img-final.jpg', img=img_)\n",
    "            print(\"Image saved!\")\n",
    "        \n",
    "            break\n",
    "        elif key == ord('q'):\n",
    "            print(\"Turning off camera.\")\n",
    "            webcam.release()\n",
    "            print(\"Camera off.\")\n",
    "            print(\"Program ended.\")\n",
    "            cv2.destroyAllWindows()\n",
    "            break\n",
    "        \n",
    "    except(KeyboardInterrupt):\n",
    "        print(\"Turning off camera.\")\n",
    "        webcam.release()\n",
    "        print(\"Camera off.\")\n",
    "        print(\"Program ended.\")\n",
    "        cv2.destroyAllWindows()\n",
    "        break\n",
    "\"\"\""
   ]
  },
  {
   "cell_type": "code",
   "execution_count": 39,
   "id": "dfe8e50a-53ed-48b9-8bce-98a148dce0f5",
   "metadata": {},
   "outputs": [],
   "source": [
    "## Example of gathering voice data using microphone"
   ]
  },
  {
   "cell_type": "code",
   "execution_count": 40,
   "id": "24a04637-0df1-4342-8037-0530d7e7ec63",
   "metadata": {},
   "outputs": [
    {
     "name": "stdout",
     "output_type": "stream",
     "text": [
      "Requirement already satisfied: sounddevice in c:\\users\\daryll\\anaconda3\\lib\\site-packages (0.5.1)\n",
      "Requirement already satisfied: CFFI>=1.0 in c:\\users\\daryll\\anaconda3\\lib\\site-packages (from sounddevice) (1.17.1)\n",
      "Requirement already satisfied: pycparser in c:\\users\\daryll\\anaconda3\\lib\\site-packages (from CFFI>=1.0->sounddevice) (2.21)\n"
     ]
    }
   ],
   "source": [
    "!pip3 install sounddevice"
   ]
  },
  {
   "cell_type": "code",
   "execution_count": 41,
   "id": "070187b9-878f-446c-8214-c7e4ed4a2fe7",
   "metadata": {},
   "outputs": [
    {
     "name": "stdout",
     "output_type": "stream",
     "text": [
      "Requirement already satisfied: wavio in c:\\users\\daryll\\anaconda3\\lib\\site-packages (0.0.9)\n",
      "Requirement already satisfied: numpy>=1.19.0 in c:\\users\\daryll\\anaconda3\\lib\\site-packages (from wavio) (1.26.4)\n"
     ]
    }
   ],
   "source": [
    "!pip3 install wavio"
   ]
  },
  {
   "cell_type": "code",
   "execution_count": 42,
   "id": "eedfb333-4606-4b1f-aa70-347552ec741b",
   "metadata": {},
   "outputs": [
    {
     "name": "stdout",
     "output_type": "stream",
     "text": [
      "Requirement already satisfied: scipy in c:\\users\\daryll\\anaconda3\\lib\\site-packages (1.13.1)\n",
      "Requirement already satisfied: numpy<2.3,>=1.22.4 in c:\\users\\daryll\\anaconda3\\lib\\site-packages (from scipy) (1.26.4)\n"
     ]
    }
   ],
   "source": [
    "!pip3 install scipy"
   ]
  },
  {
   "cell_type": "code",
   "execution_count": 43,
   "id": "cfa92a82-9ec2-4b56-865e-41cd40670ded",
   "metadata": {},
   "outputs": [
    {
     "name": "stdout",
     "output_type": "stream",
     "text": [
      "Requirement already satisfied: pyaudio in c:\\users\\daryll\\anaconda3\\lib\\site-packages (0.2.14)\n"
     ]
    }
   ],
   "source": [
    "# !apt-get install libportaudio2\n",
    "!pip install pyaudio"
   ]
  },
  {
   "cell_type": "code",
   "execution_count": 44,
   "id": "57cf76e2-f28f-4b15-b5ff-db8d8f96df85",
   "metadata": {},
   "outputs": [],
   "source": [
    "# import required libraries\n",
    "import sounddevice as sd\n",
    "from scipy.io.wavfile import write\n",
    "import wavio as wv\n",
    "# Sampling frequency\n",
    "freq = 44100\n",
    "# Recording duration\n",
    "duration = 5\n",
    "# Start recorder with the given values \n",
    "# of duration and sample frequency\n",
    "recording = sd.rec(int(duration * freq), \n",
    "samplerate=freq, channels=2)\n",
    "# Record audio for the given number of seconds\n",
    "sd.wait()\n",
    "# This will convert the NumPy array to an audio\n",
    "# file with the given sampling frequency\n",
    "write(\"recording0.wav\", freq, recording)\n",
    "\n",
    "# Convert the NumPy array to audio file\n",
    "wv.write(\"recording1.wav\", recording, freq, sampwidth=2)"
   ]
  },
  {
   "cell_type": "code",
   "execution_count": 45,
   "id": "36dc7cb6-cb5f-4cfc-9b6f-963966725b21",
   "metadata": {},
   "outputs": [],
   "source": [
    "## Web Scraping"
   ]
  },
  {
   "cell_type": "code",
   "execution_count": 46,
   "id": "dddece0e-de8c-430f-b47a-5c2b5b82ce7a",
   "metadata": {},
   "outputs": [
    {
     "name": "stdout",
     "output_type": "stream",
     "text": [
      "Requirement already satisfied: bs4 in c:\\users\\daryll\\anaconda3\\lib\\site-packages (0.0.2)\n",
      "Requirement already satisfied: beautifulsoup4 in c:\\users\\daryll\\anaconda3\\lib\\site-packages (from bs4) (4.12.3)\n",
      "Requirement already satisfied: soupsieve>1.2 in c:\\users\\daryll\\anaconda3\\lib\\site-packages (from beautifulsoup4->bs4) (2.5)\n"
     ]
    }
   ],
   "source": [
    "!pip install bs4"
   ]
  },
  {
   "cell_type": "code",
   "execution_count": 47,
   "id": "d399939e-dba2-4c5a-ad20-9b03e3485deb",
   "metadata": {},
   "outputs": [
    {
     "name": "stdout",
     "output_type": "stream",
     "text": [
      "Requirement already satisfied: requests in c:\\users\\daryll\\anaconda3\\lib\\site-packages (2.32.3)\n",
      "Requirement already satisfied: charset-normalizer<4,>=2 in c:\\users\\daryll\\anaconda3\\lib\\site-packages (from requests) (3.3.2)\n",
      "Requirement already satisfied: idna<4,>=2.5 in c:\\users\\daryll\\anaconda3\\lib\\site-packages (from requests) (3.7)\n",
      "Requirement already satisfied: urllib3<3,>=1.21.1 in c:\\users\\daryll\\anaconda3\\lib\\site-packages (from requests) (2.2.3)\n",
      "Requirement already satisfied: certifi>=2017.4.17 in c:\\users\\daryll\\anaconda3\\lib\\site-packages (from requests) (2025.1.31)\n",
      "Note: you may need to restart the kernel to use updated packages.\n"
     ]
    }
   ],
   "source": [
    "pip install requests"
   ]
  },
  {
   "cell_type": "code",
   "execution_count": 48,
   "id": "1bd8d76b-d584-43c5-8f67-429f056383ee",
   "metadata": {},
   "outputs": [],
   "source": [
    "import requests \n",
    "from bs4 import BeautifulSoup \n",
    "def getdata(url): \n",
    "    r = requests.get(url) \n",
    "    return r.text\n",
    "    \n",
    "htmldata = getdata(\"https://www.yahoo.com/\") \n",
    "soup = BeautifulSoup(htmldata, 'html.parser') \n",
    "for item in soup.find_all('img'):\n",
    "    print(item['src'])"
   ]
  },
  {
   "cell_type": "code",
   "execution_count": 49,
   "id": "fa5c10f2-4064-4370-96d8-bc2707211293",
   "metadata": {},
   "outputs": [
    {
     "name": "stdout",
     "output_type": "stream",
     "text": [
      "Requirement already satisfied: selenium in c:\\users\\daryll\\anaconda3\\lib\\site-packages (4.31.0)\n",
      "Requirement already satisfied: urllib3<3,>=1.26 in c:\\users\\daryll\\anaconda3\\lib\\site-packages (from urllib3[socks]<3,>=1.26->selenium) (2.2.3)\n",
      "Requirement already satisfied: trio~=0.17 in c:\\users\\daryll\\anaconda3\\lib\\site-packages (from selenium) (0.30.0)\n",
      "Requirement already satisfied: trio-websocket~=0.9 in c:\\users\\daryll\\anaconda3\\lib\\site-packages (from selenium) (0.12.2)\n",
      "Requirement already satisfied: certifi>=2021.10.8 in c:\\users\\daryll\\anaconda3\\lib\\site-packages (from selenium) (2025.1.31)\n",
      "Requirement already satisfied: typing_extensions~=4.9 in c:\\users\\daryll\\anaconda3\\lib\\site-packages (from selenium) (4.11.0)\n",
      "Requirement already satisfied: websocket-client~=1.8 in c:\\users\\daryll\\anaconda3\\lib\\site-packages (from selenium) (1.8.0)\n",
      "Requirement already satisfied: attrs>=23.2.0 in c:\\users\\daryll\\anaconda3\\lib\\site-packages (from trio~=0.17->selenium) (25.3.0)\n",
      "Requirement already satisfied: sortedcontainers in c:\\users\\daryll\\anaconda3\\lib\\site-packages (from trio~=0.17->selenium) (2.4.0)\n",
      "Requirement already satisfied: idna in c:\\users\\daryll\\anaconda3\\lib\\site-packages (from trio~=0.17->selenium) (3.7)\n",
      "Requirement already satisfied: outcome in c:\\users\\daryll\\anaconda3\\lib\\site-packages (from trio~=0.17->selenium) (1.3.0.post0)\n",
      "Requirement already satisfied: sniffio>=1.3.0 in c:\\users\\daryll\\anaconda3\\lib\\site-packages (from trio~=0.17->selenium) (1.3.0)\n",
      "Requirement already satisfied: cffi>=1.14 in c:\\users\\daryll\\anaconda3\\lib\\site-packages (from trio~=0.17->selenium) (1.17.1)\n",
      "Requirement already satisfied: wsproto>=0.14 in c:\\users\\daryll\\anaconda3\\lib\\site-packages (from trio-websocket~=0.9->selenium) (1.2.0)\n",
      "Requirement already satisfied: pysocks!=1.5.7,<2.0,>=1.5.6 in c:\\users\\daryll\\anaconda3\\lib\\site-packages (from urllib3[socks]<3,>=1.26->selenium) (1.7.1)\n",
      "Requirement already satisfied: pycparser in c:\\users\\daryll\\anaconda3\\lib\\site-packages (from cffi>=1.14->trio~=0.17->selenium) (2.21)\n",
      "Requirement already satisfied: h11<1,>=0.9.0 in c:\\users\\daryll\\anaconda3\\lib\\site-packages (from wsproto>=0.14->trio-websocket~=0.9->selenium) (0.14.0)\n",
      "Note: you may need to restart the kernel to use updated packages.\n"
     ]
    }
   ],
   "source": [
    "pip install selenium --upgrade"
   ]
  },
  {
   "cell_type": "code",
   "execution_count": 52,
   "id": "7230e26b-8264-47b6-a65b-5356966e2df7",
   "metadata": {},
   "outputs": [
    {
     "name": "stdout",
     "output_type": "stream",
     "text": [
      "Current Path C:/Users/Daryll/OneDrive/Desktop/DataScience/PSMDS_RC103_Programming/Activities/7/data\\lion\n"
     ]
    },
    {
     "ename": "NameError",
     "evalue": "name 'By' is not defined",
     "output_type": "error",
     "traceback": [
      "\u001b[1;31m---------------------------------------------------------------------------\u001b[0m",
      "\u001b[1;31mNameError\u001b[0m                                 Traceback (most recent call last)",
      "Cell \u001b[1;32mIn[52], line 94\u001b[0m\n\u001b[0;32m     92\u001b[0m destDir\u001b[38;5;241m=\u001b[39m\u001b[38;5;124mf\u001b[39m\u001b[38;5;124m'\u001b[39m\u001b[38;5;124mC:/Users/Daryll/OneDrive/Desktop/DataScience/PSMDS_RC103_Programming/Activities/7/data\u001b[39m\u001b[38;5;124m'\u001b[39m\n\u001b[0;32m     93\u001b[0m totalImgs\u001b[38;5;241m=\u001b[39m\u001b[38;5;241m5\u001b[39m\n\u001b[1;32m---> 94\u001b[0m saveInDestFolder(searchNames,destDir,totalImgs,driver)\n",
      "Cell \u001b[1;32mIn[52], line 81\u001b[0m, in \u001b[0;36msaveInDestFolder\u001b[1;34m(searchNames, destDir, totalImgs, driver)\u001b[0m\n\u001b[0;32m     79\u001b[0m         os\u001b[38;5;241m.\u001b[39mmkdir(path)\n\u001b[0;32m     80\u001b[0m     \u001b[38;5;28mprint\u001b[39m(\u001b[38;5;124m'\u001b[39m\u001b[38;5;124mCurrent Path\u001b[39m\u001b[38;5;124m'\u001b[39m,path)\n\u001b[1;32m---> 81\u001b[0m     totalLinks\u001b[38;5;241m=\u001b[39mgetImageUrls(name,totalImgs,driver)\n\u001b[0;32m     82\u001b[0m     \u001b[38;5;28mprint\u001b[39m(\u001b[38;5;124m'\u001b[39m\u001b[38;5;124mtotalLinks\u001b[39m\u001b[38;5;124m'\u001b[39m,totalLinks)\n\u001b[0;32m     83\u001b[0m \u001b[38;5;28;01mif\u001b[39;00m totalLinks \u001b[38;5;129;01mis\u001b[39;00m \u001b[38;5;28;01mNone\u001b[39;00m:\n",
      "Cell \u001b[1;32mIn[52], line 32\u001b[0m, in \u001b[0;36mgetImageUrls\u001b[1;34m(name, totalImgs, driver)\u001b[0m\n\u001b[0;32m     28\u001b[0m \u001b[38;5;28;01mwhile\u001b[39;00m(img_count\u001b[38;5;241m<\u001b[39mtotalImgs): \u001b[38;5;66;03m#Extract actual images now\u001b[39;00m\n\u001b[0;32m     30\u001b[0m     scroll_to_end(driver)\n\u001b[1;32m---> 32\u001b[0m     thumbnail_results \u001b[38;5;241m=\u001b[39m driver\u001b[38;5;241m.\u001b[39mfind_elements(By\u001b[38;5;241m.\u001b[39mXPATH,\u001b[38;5;124m\"\u001b[39m\u001b[38;5;124m//img[contains(@class,\u001b[39m\u001b[38;5;124m'\u001b[39m\u001b[38;5;124mYQ4gaf\u001b[39m\u001b[38;5;124m'\u001b[39m\u001b[38;5;124m)]\u001b[39m\u001b[38;5;124m\"\u001b[39m)\n\u001b[0;32m     33\u001b[0m     totalResults\u001b[38;5;241m=\u001b[39m\u001b[38;5;28mlen\u001b[39m(thumbnail_results)\n\u001b[0;32m     34\u001b[0m     \u001b[38;5;28mprint\u001b[39m(\u001b[38;5;124mf\u001b[39m\u001b[38;5;124m\"\u001b[39m\u001b[38;5;124mFound: \u001b[39m\u001b[38;5;132;01m{\u001b[39;00mtotalResults\u001b[38;5;132;01m}\u001b[39;00m\u001b[38;5;124m search results. Extracting links from\u001b[39m\u001b[38;5;132;01m{\u001b[39;00mresults_start\u001b[38;5;132;01m}\u001b[39;00m\u001b[38;5;124m:\u001b[39m\u001b[38;5;132;01m{\u001b[39;00mtotalResults\u001b[38;5;132;01m}\u001b[39;00m\u001b[38;5;124m\"\u001b[39m)\n",
      "\u001b[1;31mNameError\u001b[0m: name 'By' is not defined"
     ]
    }
   ],
   "source": [
    "from selenium import webdriver\n",
    "import time\n",
    "import requests\n",
    "import shutil\n",
    "import os\n",
    "import urllib.request\n",
    "import io\n",
    "import time\n",
    "from PIL import Image\n",
    "\n",
    "user = os.getlogin()\n",
    "driver = webdriver.Chrome()\n",
    "search_url = \"https://www.google.com/search?q={q}&tbm=isch&tbs=sur%3Afc&hl=en&ved=0CAIQpwVqFwoTCKCa1c6s4-oCFQAAA\"\n",
    "driver.get(search_url.format(q='Car'))\n",
    "\n",
    "def scroll_to_end(driver):\n",
    "    driver.execute_script(\"window.scrollTo(0, document.body.scrollHeight);\")\n",
    "    time.sleep(5)#sleep_between_interactions\n",
    "    \n",
    "def getImageUrls(name,totalImgs,driver):\n",
    "    \n",
    "    search_url = \"https://www.google.com/search?q={q}&tbm=isch&tbs=sur%3Afc&hl=en&ved=0CAIQpwVqFwoTCKCa1c6s4-oCF\"\n",
    "    driver.get(search_url.format(q=name))\n",
    "    img_urls = set()\n",
    "    img_count = 0\n",
    "    results_start = 0  \n",
    "    \n",
    "    while(img_count<totalImgs): #Extract actual images now\n",
    "        \n",
    "        scroll_to_end(driver)\n",
    "        \n",
    "        thumbnail_results = driver.find_elements(By.XPATH,\"//img[contains(@class,'YQ4gaf')]\")\n",
    "        totalResults=len(thumbnail_results)\n",
    "        print(f\"Found: {totalResults} search results. Extracting links from{results_start}:{totalResults}\")\n",
    "        \n",
    "        for img in thumbnail_results[results_start:totalResults]:\n",
    "            \n",
    "            img.click()\n",
    "            time.sleep(2)\n",
    "            actual_images = driver.find_elements(By.CSS_SELECTOR,'g-img.YQ4gafe')\n",
    "            for actual_image in actual_images:\n",
    "                if actual_image.get_attribute('src') and 'https' in actual_image.get_attribute('src'):\n",
    "                    img_urls.add(actual_image.get_attribute('src'))\n",
    "            \n",
    "            img_count=len(img_urls)\n",
    "            \n",
    "            if img_count >= totalImgs:\n",
    "                print(f\"Found: {img_count} image links\")\n",
    "                break\n",
    "            else:\n",
    "                print(\"Found:\", img_count, \"looking for more image links ...\")                \n",
    "                load_more_button = driver.find_element(By.CSS_SELECTOR,\"data:image\")\n",
    "                driver.execute_script(\"document.querySelector('data:image').click();\")\n",
    "                results_start = len(thumbnail_results)\n",
    "    return img_urls\n",
    "    \n",
    "def downloadImages(folder_path,file_name,url):\n",
    "    try:\n",
    "        \n",
    "        image_content = requests.get(url).content\n",
    "    except Exception as e:\n",
    "        print(f\"ERROR - COULD NOT DOWNLOAD {url} - {e}\")\n",
    "    try:\n",
    "        image_file = io.BytesIO(image_content)\n",
    "        image = Image.open(image_file).convert('RGB')\n",
    "       \n",
    "        file_path = os.path.join(folder_path, file_name)\n",
    "        \n",
    "        with open(file_path, 'wb') as f:\n",
    "            image.save(f, \"JPEG\", quality=85)\n",
    "        print(f\"SAVED - {url} - AT: {file_path}\")\n",
    "    except Exception as e:\n",
    "        print(f\"ERROR - COULD NOT SAVE {url} - {e}\")\n",
    "\n",
    "def saveInDestFolder(searchNames,destDir,totalImgs,driver):\n",
    "    for name in list(searchNames):\n",
    "        path=os.path.join(destDir,name)\n",
    "        if not os.path.isdir(path):\n",
    "            os.mkdir(path)\n",
    "        print('Current Path',path)\n",
    "        totalLinks=getImageUrls(name,totalImgs,driver)\n",
    "        print('totalLinks',totalLinks)\n",
    "    if totalLinks is None:\n",
    "            print('images not found for :',name)\n",
    "            \n",
    "    else:\n",
    "        for i, link in enumerate(totalLinks):\n",
    "            file_name = f\"Image{i:150}.jpg\"\n",
    "            downloadImages(path,file_name,link)\n",
    "\n",
    "searchNames=['lion'] \n",
    "destDir=f'C:/Users/Daryll/OneDrive/Desktop/DataScience/PSMDS_RC103_Programming/Activities/7/data'\n",
    "totalImgs=5\n",
    "saveInDestFolder(searchNames,destDir,totalImgs,driver)\n"
   ]
  }
 ],
 "metadata": {
  "kernelspec": {
   "display_name": "Python [conda env:base] *",
   "language": "python",
   "name": "conda-base-py"
  },
  "language_info": {
   "codemirror_mode": {
    "name": "ipython",
    "version": 3
   },
   "file_extension": ".py",
   "mimetype": "text/x-python",
   "name": "python",
   "nbconvert_exporter": "python",
   "pygments_lexer": "ipython3",
   "version": "3.12.7"
  }
 },
 "nbformat": 4,
 "nbformat_minor": 5
}
