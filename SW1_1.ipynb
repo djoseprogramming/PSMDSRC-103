{
 "cells": [
  {
   "cell_type": "markdown",
   "id": "10f359bf-b8b5-43c7-9ef8-d9c6b4891996",
   "metadata": {},
   "source": [
    "# Seatwork 1.1 Practice Set 1\n",
    "Indexing and Slicing using Python. Submitted by Daryll Jose"
   ]
  },
  {
   "cell_type": "markdown",
   "id": "af26ed68-d8aa-44a0-ae83-e07266cf05e9",
   "metadata": {},
   "source": [
    "## 1. Type the expressions below, and try to explain what's happening in each case."
   ]
  },
  {
   "cell_type": "code",
   "execution_count": 1,
   "id": "f03a36ac-a00a-45bc-b1f7-cec4c8f2bb90",
   "metadata": {},
   "outputs": [
    {
     "data": {
      "text/plain": [
       "65536"
      ]
     },
     "execution_count": 1,
     "metadata": {},
     "output_type": "execute_result"
    }
   ],
   "source": [
    "2 ** 16 # Does exponent operation"
   ]
  },
  {
   "cell_type": "code",
   "execution_count": 2,
   "id": "547ee233-51df-4f27-9d0a-faa4a29de52f",
   "metadata": {},
   "outputs": [
    {
     "data": {
      "text/plain": [
       "(0.4, 0.4)"
      ]
     },
     "execution_count": 2,
     "metadata": {},
     "output_type": "execute_result"
    }
   ],
   "source": [
    "2 / 5, 2 / 5.0 # Performs division, creates a tupled result, with implicit type conversion"
   ]
  },
  {
   "cell_type": "code",
   "execution_count": 3,
   "id": "77b8c14f-4bfe-44f2-99cb-6704a10d6f16",
   "metadata": {
    "scrolled": true
   },
   "outputs": [
    {
     "data": {
      "text/plain": [
       "'spameggs'"
      ]
     },
     "execution_count": 3,
     "metadata": {},
     "output_type": "execute_result"
    }
   ],
   "source": [
    "\"spam\" + \"eggs\" # Concatenates strings (without space)"
   ]
  },
  {
   "cell_type": "code",
   "execution_count": 4,
   "id": "2959fccc-0543-4def-8d1a-012d8c7e3dcd",
   "metadata": {},
   "outputs": [],
   "source": [
    "S = \"ham\" # Assigns value to the variable 'S'"
   ]
  },
  {
   "cell_type": "code",
   "execution_count": 5,
   "id": "c5c22281-e4dc-4c54-8e1c-921bf009fc48",
   "metadata": {},
   "outputs": [
    {
     "data": {
      "text/plain": [
       "'eggs ham'"
      ]
     },
     "execution_count": 5,
     "metadata": {},
     "output_type": "execute_result"
    }
   ],
   "source": [
    "\"eggs \" + S # Concatenates string and the value of the variable"
   ]
  },
  {
   "cell_type": "code",
   "execution_count": 6,
   "id": "5c450d3c-467b-4538-a6d4-5b3c4b571956",
   "metadata": {},
   "outputs": [
    {
     "data": {
      "text/plain": [
       "'hamhamhamhamham'"
      ]
     },
     "execution_count": 6,
     "metadata": {},
     "output_type": "execute_result"
    }
   ],
   "source": [
    "S * 5 # Repeats strings 5 times"
   ]
  },
  {
   "cell_type": "code",
   "execution_count": 7,
   "id": "feb59776-7a55-4d0e-bc05-0070c9a61941",
   "metadata": {},
   "outputs": [
    {
     "data": {
      "text/plain": [
       "''"
      ]
     },
     "execution_count": 7,
     "metadata": {},
     "output_type": "execute_result"
    }
   ],
   "source": [
    "S[:0] # Creates a slice from the variable s"
   ]
  },
  {
   "cell_type": "code",
   "execution_count": 8,
   "id": "81500253-9330-4ada-8fd5-f20dea8f521a",
   "metadata": {},
   "outputs": [
    {
     "data": {
      "text/plain": [
       "'green eggs and ham'"
      ]
     },
     "execution_count": 8,
     "metadata": {},
     "output_type": "execute_result"
    }
   ],
   "source": [
    "\"green %s and %s\" % (\"eggs\", S) # Prints results using C formatting?"
   ]
  },
  {
   "cell_type": "code",
   "execution_count": 9,
   "id": "f0660a9d-9670-4907-a15e-7fcdc8680055",
   "metadata": {},
   "outputs": [
    {
     "data": {
      "text/plain": [
       "'x'"
      ]
     },
     "execution_count": 9,
     "metadata": {},
     "output_type": "execute_result"
    }
   ],
   "source": [
    "('x',) [0] # Calls out a value from a tuple, 0-index, error if tuple value is NULL"
   ]
  },
  {
   "cell_type": "code",
   "execution_count": 10,
   "id": "38bcae46-7217-4efe-b75a-d311f4cf7695",
   "metadata": {},
   "outputs": [
    {
     "data": {
      "text/plain": [
       "'y'"
      ]
     },
     "execution_count": 10,
     "metadata": {},
     "output_type": "execute_result"
    }
   ],
   "source": [
    "('x', 'y') [1] # Calls out a value from a tuple, 0-index"
   ]
  },
  {
   "cell_type": "code",
   "execution_count": 11,
   "id": "46460de5-7849-4cf1-9186-f1cd07d039cf",
   "metadata": {},
   "outputs": [],
   "source": [
    "L = [1,2,3] + [4,5,6] # Appends 2nd list to the 1st list and assigns to the variable L"
   ]
  },
  {
   "cell_type": "code",
   "execution_count": 12,
   "id": "1b88852f-2fc1-4f93-ba5f-e983e5966a43",
   "metadata": {},
   "outputs": [
    {
     "data": {
      "text/plain": [
       "[5, 6]"
      ]
     },
     "execution_count": 12,
     "metadata": {},
     "output_type": "execute_result"
    }
   ],
   "source": [
    "# Creates a tuple from indexed list variable L\n",
    "L # L - Calls out full list of the variable\n",
    "L[:] # L[:] - Calls out full list of the variable\n",
    "L[:0] # L[:0] - Calls out from start until 0 index (exclusive)\n",
    "L[-2] # L[-2] - Calls out 2nd index from the end\n",
    "L[-2:]# L[-2:] - Calls out from 2nd index from the end up to the end"
   ]
  },
  {
   "cell_type": "code",
   "execution_count": 13,
   "id": "3a114d06-8b74-47ec-bc84-1074eb9148cf",
   "metadata": {},
   "outputs": [
    {
     "data": {
      "text/plain": [
       "[3, 4]"
      ]
     },
     "execution_count": 13,
     "metadata": {},
     "output_type": "execute_result"
    }
   ],
   "source": [
    "([1,2,3] + [4,5,6]) [2:4] # Creates a slice from 2 until 4 (exclusive)"
   ]
  },
  {
   "cell_type": "code",
   "execution_count": 14,
   "id": "9e367f4d-16fc-4089-9d91-ade2e7eb7341",
   "metadata": {},
   "outputs": [
    {
     "data": {
      "text/plain": [
       "[3, 4]"
      ]
     },
     "execution_count": 14,
     "metadata": {},
     "output_type": "execute_result"
    }
   ],
   "source": [
    "[L[2], L[3]] # Creates a list explicitly from indexed list variable L"
   ]
  },
  {
   "cell_type": "code",
   "execution_count": 15,
   "id": "e8f88305-0eb7-4dce-bb4e-ea1fe2ed5f05",
   "metadata": {},
   "outputs": [
    {
     "data": {
      "text/plain": [
       "[6, 5, 4, 3, 2, 1]"
      ]
     },
     "execution_count": 15,
     "metadata": {},
     "output_type": "execute_result"
    }
   ],
   "source": [
    "L.reverse(); L # Reverses index order of variable L"
   ]
  },
  {
   "cell_type": "code",
   "execution_count": 16,
   "id": "70ac0d0f-c277-4bb6-ae59-222a9d8d5c73",
   "metadata": {},
   "outputs": [
    {
     "data": {
      "text/plain": [
       "[1, 2, 3, 4, 5, 6]"
      ]
     },
     "execution_count": 16,
     "metadata": {},
     "output_type": "execute_result"
    }
   ],
   "source": [
    "L.sort(); L  # Sort values by dictionary order"
   ]
  },
  {
   "cell_type": "code",
   "execution_count": 17,
   "id": "8d06d9b7-d010-4fc7-918d-ca516fa13ba9",
   "metadata": {},
   "outputs": [
    {
     "data": {
      "text/plain": [
       "3"
      ]
     },
     "execution_count": 17,
     "metadata": {},
     "output_type": "execute_result"
    }
   ],
   "source": [
    "L.index(4) # Gives the index of element \"4\" in the variable L"
   ]
  },
  {
   "cell_type": "code",
   "execution_count": 18,
   "id": "0bedaa54-5daa-4690-a1c3-7fbe2c09c055",
   "metadata": {},
   "outputs": [
    {
     "data": {
      "text/plain": [
       "2"
      ]
     },
     "execution_count": 18,
     "metadata": {},
     "output_type": "execute_result"
    }
   ],
   "source": [
    "{'a':1, 'b':2} ['b'] # Calls out the value of key 'b' from the dictionary"
   ]
  },
  {
   "cell_type": "code",
   "execution_count": 19,
   "id": "134ab6e5-0d49-4e1d-b1ad-15b1b9da3815",
   "metadata": {},
   "outputs": [],
   "source": [
    "D = {'x':1, 'y':2, 'z':3} # Creates a dictionary (key:value pairing), assigns to variable D"
   ]
  },
  {
   "cell_type": "code",
   "execution_count": 20,
   "id": "0ca83042-0cb0-4b02-b046-5664f96bbea6",
   "metadata": {},
   "outputs": [],
   "source": [
    "D['w'] = 0 # Adds a new key:value pairing to dictionary variable D"
   ]
  },
  {
   "cell_type": "code",
   "execution_count": 21,
   "id": "f84dd158-20be-4807-b635-b33e1aa5dad9",
   "metadata": {},
   "outputs": [
    {
     "data": {
      "text/plain": [
       "1"
      ]
     },
     "execution_count": 21,
     "metadata": {},
     "output_type": "execute_result"
    }
   ],
   "source": [
    "D['x'] + D['w'] # Performs addition operation from the returned value from the dictionary based on the called out key (1 + 1)"
   ]
  },
  {
   "cell_type": "code",
   "execution_count": 22,
   "id": "74912889-3d02-4f7b-b0b8-8530ac584e67",
   "metadata": {},
   "outputs": [],
   "source": [
    "D[(1,2,3)] = 4 # Adds a new key:value pairing - tuple as key - to variable D"
   ]
  },
  {
   "cell_type": "code",
   "execution_count": 23,
   "id": "bba7a419-baa1-47af-bc76-f0245557ea56",
   "metadata": {},
   "outputs": [
    {
     "data": {
      "text/plain": [
       "dict_keys(['x', 'y', 'z', 'w', (1, 2, 3)])"
      ]
     },
     "execution_count": 23,
     "metadata": {},
     "output_type": "execute_result"
    }
   ],
   "source": [
    "D.keys() # Returns all keys of the dictionary variable D"
   ]
  },
  {
   "cell_type": "code",
   "execution_count": 24,
   "id": "ee7a2773-2eac-4727-8f2b-5d62fb129e16",
   "metadata": {},
   "outputs": [
    {
     "data": {
      "text/plain": [
       "dict_values([1, 2, 3, 0, 4])"
      ]
     },
     "execution_count": 24,
     "metadata": {},
     "output_type": "execute_result"
    }
   ],
   "source": [
    "D.values() # Returns all values of the dictionary variable D"
   ]
  },
  {
   "cell_type": "code",
   "execution_count": 25,
   "id": "74a27b4c-8798-485e-8940-417d83c01c32",
   "metadata": {},
   "outputs": [
    {
     "data": {
      "text/plain": [
       "True"
      ]
     },
     "execution_count": 25,
     "metadata": {},
     "output_type": "execute_result"
    }
   ],
   "source": [
    "(1, 2, 3) in D # Checks if the key (tuple in this case) is in the dictionary variable D. Instead of has_key (because this function is deprecated) we use the \"in\" operator"
   ]
  },
  {
   "cell_type": "markdown",
   "id": "01363fa3-7eea-4220-8099-48bb47a73fa5",
   "metadata": {},
   "source": [
    "## 2. Define a list named L that contains four strings or numbers. Experiment with the following boundary cases."
   ]
  },
  {
   "cell_type": "code",
   "execution_count": 26,
   "id": "1ccaac9f-2a25-4a16-a970-e1dd0b783f8d",
   "metadata": {},
   "outputs": [],
   "source": [
    "L = [1, 2, 3, 4] "
   ]
  },
  {
   "cell_type": "markdown",
   "id": "b11baf9d-9b38-4d47-b680-765492d16e67",
   "metadata": {},
   "source": [
    "### 2.1. Attempt to index out of bounds. (Ex. L[66])"
   ]
  },
  {
   "cell_type": "code",
   "execution_count": 27,
   "id": "36ecda62-8393-4d7a-ba67-a603b69bfb99",
   "metadata": {},
   "outputs": [
    {
     "ename": "IndexError",
     "evalue": "list index out of range",
     "output_type": "error",
     "traceback": [
      "\u001b[1;31m---------------------------------------------------------------------------\u001b[0m",
      "\u001b[1;31mIndexError\u001b[0m                                Traceback (most recent call last)",
      "Cell \u001b[1;32mIn[27], line 1\u001b[0m\n\u001b[1;32m----> 1\u001b[0m L[\u001b[38;5;241m66\u001b[39m]\n",
      "\u001b[1;31mIndexError\u001b[0m: list index out of range"
     ]
    }
   ],
   "source": [
    "L[66] # Results to IndexError: list index out of range"
   ]
  },
  {
   "cell_type": "markdown",
   "id": "9bd0af3c-9410-4b9f-af1d-431eda6cd1c2",
   "metadata": {},
   "source": [
    "### 2.2. Attempt to slice out of bounds. (Ex. L[-9999:100])Attempt to slice out of bounds. (Ex. L[-9999:100])Attempt to slice out of bounds. (Ex. L[-9999:100])"
   ]
  },
  {
   "cell_type": "code",
   "execution_count": null,
   "id": "3aa17b00-590f-4067-83ba-2c5379c4340a",
   "metadata": {},
   "outputs": [],
   "source": [
    "L[-9999:100] # ':' semi-colon indicates slice, no issues with the start-end (exclusive) limitation "
   ]
  },
  {
   "cell_type": "markdown",
   "id": "b5b7174f-a116-4675-b74c-59f8d9d1f3a3",
   "metadata": {},
   "source": [
    "### 2.3. Try extracting a sequence in reverse. Make the lower bound higher than the upper bound (Ex. L[3:1]). Attempt to perform L[3:1] = ['?']. Explain the output."
   ]
  },
  {
   "cell_type": "code",
   "execution_count": null,
   "id": "6f47ca74-227f-4c35-b8b1-5756ed9d65cb",
   "metadata": {},
   "outputs": [],
   "source": [
    "L[3:1] # Results to []. The slice doesn't follow the start:end:step (with direction)"
   ]
  },
  {
   "cell_type": "markdown",
   "id": "198f42b9-de2d-4e5d-9393-44a1a55b7d27",
   "metadata": {},
   "source": [
    "## 3. Define another list L, perform the following and use comments to explain:"
   ]
  },
  {
   "cell_type": "code",
   "execution_count": null,
   "id": "d87b0a1b-3b88-437b-aa6d-db9a6309517c",
   "metadata": {},
   "outputs": [],
   "source": [
    "L = [1, 2, 3, 4, 5, 6, 7]"
   ]
  },
  {
   "cell_type": "markdown",
   "id": "2c09fcd1-def0-439b-a9e9-53b5fb7b65b4",
   "metadata": {},
   "source": [
    "### 3.1. Assign a list as one of its elements."
   ]
  },
  {
   "cell_type": "code",
   "execution_count": null,
   "id": "50899dfc-2d2a-4172-8888-4c3a68d38a98",
   "metadata": {},
   "outputs": [],
   "source": [
    "L[0] = [1, 2, 3]\n",
    "L # L is now [[1, 2, 3], 2, 3, 4, 5, 6, 7]"
   ]
  },
  {
   "cell_type": "markdown",
   "id": "3558f626-0de4-4d05-9e30-d8f490cc1f3a",
   "metadata": {},
   "source": [
    "### 3.2. Assign an empty list to a range. "
   ]
  },
  {
   "cell_type": "code",
   "execution_count": null,
   "id": "366d700a-d14b-4b05-9287-fe232659004a",
   "metadata": {},
   "outputs": [],
   "source": [
    "L[1:3] = [] # Removes elements at indices 2 and 3\n",
    "L # Results L = [[1, 2, 3], 4, 5, 6, 7]"
   ]
  },
  {
   "cell_type": "markdown",
   "id": "6d7c003d-8ea4-4000-ba95-58b88dd521b7",
   "metadata": {},
   "source": [
    "### 3.3. Delete an item in your list using the del statement."
   ]
  },
  {
   "cell_type": "code",
   "execution_count": null,
   "id": "300c6e1b-ea5d-4ad2-b302-6cdf8b36e2a7",
   "metadata": {},
   "outputs": [],
   "source": [
    "del L[1]  # This removes the element at index 1\n",
    "L # L = [[1, 2, 3], 5, 6, 7]"
   ]
  },
  {
   "cell_type": "markdown",
   "id": "deef0ace-4518-480b-b8da-e3901180ad32",
   "metadata": {},
   "source": [
    "### 3.4. Delete an entire range from your list."
   ]
  },
  {
   "cell_type": "code",
   "execution_count": null,
   "id": "953d417c-164e-48c6-853f-f55340a4e218",
   "metadata": {},
   "outputs": [],
   "source": [
    "del L[2:] # This removes elements from index 2 up to the end.\n",
    "L # L = [[1, 2, 3], 5]"
   ]
  },
  {
   "cell_type": "markdown",
   "id": "5c6e01ac-c298-44f9-8925-5d29a2500dc5",
   "metadata": {},
   "source": [
    "### 3.5 Assign a non-sequence value to a slice"
   ]
  },
  {
   "cell_type": "code",
   "execution_count": null,
   "id": "68293ebe-9309-403b-834d-34ddc274124d",
   "metadata": {},
   "outputs": [],
   "source": [
    "L[1:] = 4 \n",
    "L\n",
    "# The code results to a slice, which may have a multiple elements which a value cannot be assigned directly. TypeError: must assign iterable to extended slice"
   ]
  },
  {
   "cell_type": "markdown",
   "id": "e0bb1ae6-a7c8-473e-9298-e6aa3a25632c",
   "metadata": {},
   "source": [
    "## 4. Create a dictionary named D with three entries, for keys a, b, and c."
   ]
  },
  {
   "cell_type": "code",
   "execution_count": null,
   "id": "ea3eb732-73ed-44ff-894f-1906eaff6a2d",
   "metadata": {},
   "outputs": [],
   "source": [
    "D = {'a':1, 'b':2, 'c':3}"
   ]
  },
  {
   "cell_type": "markdown",
   "id": "5a2b527d-d9c8-4611-b78a-4e47a9eb4bb5",
   "metadata": {},
   "source": [
    "### 4.1. What happens if you try to index a nonexistent key d (D[‘d’])?"
   ]
  },
  {
   "cell_type": "code",
   "execution_count": null,
   "id": "73908d73-48a5-4aec-9b9c-71673c96f806",
   "metadata": {},
   "outputs": [],
   "source": [
    "D['d'] # Results to an error due to key 'd' is inexistent to the dictionary D"
   ]
  },
  {
   "cell_type": "markdown",
   "id": "d22a5efb-c1cd-48b4-9e12-7f589741eb1f",
   "metadata": {},
   "source": [
    "### 4.2. What does python do if you try to assign to a nonexistent key?"
   ]
  },
  {
   "cell_type": "code",
   "execution_count": null,
   "id": "2f461e9d-f445-44fa-9602-74a612e1f162",
   "metadata": {},
   "outputs": [],
   "source": [
    "D['d'] = 4 \n",
    "D # Python will add a new pair of key-value in the dictionary. D now looks like {'a': 1, 'b': 2, 'c': 3, 'd': 4}"
   ]
  },
  {
   "cell_type": "markdown",
   "id": "786a479d-eb26-4bce-a64c-c5b5b01c5a9e",
   "metadata": {},
   "source": [
    "### 4.3. Compare this to out of bounds assignments."
   ]
  },
  {
   "cell_type": "code",
   "execution_count": null,
   "id": "f169afbf-0748-48f2-bdee-7f36d0afe432",
   "metadata": {},
   "outputs": [],
   "source": [
    "L = [1, 2, 3] # Creates a list version of the dictionary\n",
    "L[3] = 4 # IndexError: list assignment index out of range\n",
    "\n",
    "'''\n",
    "Indexing a nonexistent key in a dictionary raises a \"KeyError\".\n",
    "Assigning to a nonexistent key in a dictionary creates a new key-value pair.\n",
    "Assigning to an out-of-bounds index in a list raises an \"IndexError\".\n",
    "'''"
   ]
  },
  {
   "cell_type": "markdown",
   "id": "bb8997dd-580b-4a94-a1a6-025f9f69aa8b",
   "metadata": {},
   "source": [
    "## 5. Run tests to answer the following questions:"
   ]
  },
  {
   "cell_type": "markdown",
   "id": "922fff2b-a090-4b09-a8f5-c8c2c9931694",
   "metadata": {},
   "source": [
    "### 5.1. What happens when you try to use the + operator on different/mixed types?"
   ]
  },
  {
   "cell_type": "code",
   "execution_count": null,
   "id": "d3fe9d4a-3944-4415-bacc-9d3c4e2674ed",
   "metadata": {},
   "outputs": [],
   "source": [
    "\"string\" + 1 # It will result to a TypeError: can only concatenate str (not \"int\") to str"
   ]
  },
  {
   "cell_type": "markdown",
   "id": "52dceb2e-1c21-420d-a9f3-8a330d2d6ca8",
   "metadata": {},
   "source": [
    "#### 5.2. Does + work if one of the operands is a dictionary?"
   ]
  },
  {
   "cell_type": "code",
   "execution_count": null,
   "id": "775f396b-43f8-4baf-aa51-d20724cb0040",
   "metadata": {},
   "outputs": [],
   "source": [
    "{'a': 1, 'b': 2} + {'c': 3, 'd': 4} # No. It resulted to TypeError: unsupported operand type(s) for +: 'dict' and 'dict'"
   ]
  },
  {
   "cell_type": "markdown",
   "id": "67398a7a-876b-4aab-8588-db339ad19f2c",
   "metadata": {},
   "source": [
    "#### 5.3. Try list.append() (use an actual list you created). Does the append() method work for both lists and strings?"
   ]
  },
  {
   "cell_type": "code",
   "execution_count": null,
   "id": "d7f6080b-6ab0-4b52-bb45-dca2be761e58",
   "metadata": {},
   "outputs": [],
   "source": [
    "L1 = [1, 2]\n",
    "L2 = [3, 4]\n",
    "L1.append(L2)\n",
    "L1 # L1 is now [1, 2, [3, 4]]"
   ]
  },
  {
   "cell_type": "code",
   "execution_count": null,
   "id": "50f317d4-7a74-4d30-aff4-9596031a3b98",
   "metadata": {},
   "outputs": [],
   "source": [
    "A = \"a\"\n",
    "B = \"b\"\n",
    "A.append(B) # This will result to AttributeError: 'str' object has no attribute 'append'\n",
    "# Append works on lists but not on strings"
   ]
  },
  {
   "cell_type": "markdown",
   "id": "6fe97ade-2f4b-4eb0-981d-e5f349a98da4",
   "metadata": {},
   "source": [
    "#### 5.4. Try concatenating (+) two lists or strings, what happens?"
   ]
  },
  {
   "cell_type": "code",
   "execution_count": null,
   "id": "3ad179de-907c-42ca-8afd-ead662bfb6c2",
   "metadata": {},
   "outputs": [],
   "source": [
    "L3 = L1 + L2 # Returns nothing\n",
    "print(A + B) # Results to \"ab\"\n",
    "# Concatenating using (+) does not work with lists"
   ]
  },
  {
   "cell_type": "markdown",
   "id": "debd9193-a644-49f0-ae64-80bdf351998f",
   "metadata": {},
   "source": [
    "## 6. Define a string S of four characters. Then type the following expression: S[0] [0] [0] [0]. Explain what is happening."
   ]
  },
  {
   "cell_type": "code",
   "execution_count": null,
   "id": "0d66c594-02ba-411a-be3e-056bf782ad4e",
   "metadata": {},
   "outputs": [],
   "source": [
    "S = \"abcd\"\n",
    "\n",
    "# Evaluate the expression\n",
    "result = S[0][0][0][0]\n",
    "\n",
    "'''\n",
    "S[0] returns the first character of the string S, which is \"a\".\n",
    "Next, \"a\"[0] returns the first character of the string \"a\", which is again \"a\".\n",
    "The same process repeats for the next two [0], each time returning the first character of the string \"a\".\n",
    "Since we're repeatedly accessing the first character of the single-character string \"a\", the final result is simply \"a\".\n",
    "'''"
   ]
  },
  {
   "cell_type": "markdown",
   "id": "75a7b07d-a791-4882-a9d3-f976482bd428",
   "metadata": {},
   "source": [
    "## 7. Define a string S of 4 characters again: S = “spam”. Write an assignment that changes the string to “slam”, using only slicing and concatenation. Does it work? Try index assignment."
   ]
  },
  {
   "cell_type": "code",
   "execution_count": null,
   "id": "cf7d0eed-6e4d-44e1-aef9-c0884f382937",
   "metadata": {},
   "outputs": [],
   "source": [
    "# Using only slicing and concatenation.\n",
    "S = \"spam\"\n",
    "S = S[0:1] + \"l\" + S[2:] \n",
    "print(S)\n",
    "# Does it work? yes\n",
    "\n",
    "# Using index assignment\n",
    "S = \"spam\"\n",
    "S[1] = \"l\"\n",
    "print(S) \n",
    "# Doesn't work. TypeError: 'str' object does not support item assignment"
   ]
  }
 ],
 "metadata": {
  "kernelspec": {
   "display_name": "Python 3 (ipykernel)",
   "language": "python",
   "name": "python3"
  },
  "language_info": {
   "codemirror_mode": {
    "name": "ipython",
    "version": 3
   },
   "file_extension": ".py",
   "mimetype": "text/x-python",
   "name": "python",
   "nbconvert_exporter": "python",
   "pygments_lexer": "ipython3",
   "version": "3.12.7"
  }
 },
 "nbformat": 4,
 "nbformat_minor": 5
}
