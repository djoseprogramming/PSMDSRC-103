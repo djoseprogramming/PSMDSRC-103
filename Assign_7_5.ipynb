{
  "cells": [
    {
      "cell_type": "markdown",
      "metadata": {
        "id": "view-in-github",
        "colab_type": "text"
      },
      "source": [
        "<a href=\"https://colab.research.google.com/github/djoseprogramming/PSMDSRC-103/blob/main/Assign_7_5.ipynb\" target=\"_parent\"><img src=\"https://colab.research.google.com/assets/colab-badge.svg\" alt=\"Open In Colab\"/></a>"
      ]
    },
    {
      "cell_type": "markdown",
      "source": [
        "# Handling duplicate, missing, or invalid data"
      ],
      "metadata": {
        "id": "2cxA0iO7kxJ7"
      },
      "id": "2cxA0iO7kxJ7"
    },
    {
      "cell_type": "markdown",
      "source": [
        "## Setup"
      ],
      "metadata": {
        "id": "2S85byBZkzOZ"
      },
      "id": "2S85byBZkzOZ"
    },
    {
      "cell_type": "code",
      "execution_count": null,
      "id": "84cc5cef-f848-46ce-a367-9fc62467911c",
      "metadata": {
        "id": "84cc5cef-f848-46ce-a367-9fc62467911c"
      },
      "outputs": [],
      "source": [
        "import pandas as pd\n",
        "df = pd.read_csv('7/data/dirty_data.csv')"
      ]
    },
    {
      "cell_type": "markdown",
      "source": [
        "##  Finding problematic data"
      ],
      "metadata": {
        "id": "TCT0zxItk1Yu"
      },
      "id": "TCT0zxItk1Yu"
    },
    {
      "cell_type": "code",
      "execution_count": null,
      "id": "72af0ca1-d31c-44aa-bf12-63abaa6f4e13",
      "metadata": {
        "id": "72af0ca1-d31c-44aa-bf12-63abaa6f4e13",
        "outputId": "3cab2aa0-31d0-4a5a-806f-812a3d97fa53"
      },
      "outputs": [
        {
          "data": {
            "text/html": [
              "<div>\n",
              "<style scoped>\n",
              "    .dataframe tbody tr th:only-of-type {\n",
              "        vertical-align: middle;\n",
              "    }\n",
              "\n",
              "    .dataframe tbody tr th {\n",
              "        vertical-align: top;\n",
              "    }\n",
              "\n",
              "    .dataframe thead th {\n",
              "        text-align: right;\n",
              "    }\n",
              "</style>\n",
              "<table border=\"1\" class=\"dataframe\">\n",
              "  <thead>\n",
              "    <tr style=\"text-align: right;\">\n",
              "      <th></th>\n",
              "      <th>date</th>\n",
              "      <th>station</th>\n",
              "      <th>PRCP</th>\n",
              "      <th>SNOW</th>\n",
              "      <th>SNWD</th>\n",
              "      <th>TMAX</th>\n",
              "      <th>TMIN</th>\n",
              "      <th>TOBS</th>\n",
              "      <th>WESF</th>\n",
              "      <th>inclement_weather</th>\n",
              "    </tr>\n",
              "  </thead>\n",
              "  <tbody>\n",
              "    <tr>\n",
              "      <th>0</th>\n",
              "      <td>2018-01-01T00:00:00</td>\n",
              "      <td>?</td>\n",
              "      <td>0.0</td>\n",
              "      <td>0.0</td>\n",
              "      <td>-inf</td>\n",
              "      <td>5505.0</td>\n",
              "      <td>-40.0</td>\n",
              "      <td>NaN</td>\n",
              "      <td>NaN</td>\n",
              "      <td>NaN</td>\n",
              "    </tr>\n",
              "    <tr>\n",
              "      <th>1</th>\n",
              "      <td>2018-01-01T00:00:00</td>\n",
              "      <td>?</td>\n",
              "      <td>0.0</td>\n",
              "      <td>0.0</td>\n",
              "      <td>-inf</td>\n",
              "      <td>5505.0</td>\n",
              "      <td>-40.0</td>\n",
              "      <td>NaN</td>\n",
              "      <td>NaN</td>\n",
              "      <td>NaN</td>\n",
              "    </tr>\n",
              "    <tr>\n",
              "      <th>2</th>\n",
              "      <td>2018-01-01T00:00:00</td>\n",
              "      <td>?</td>\n",
              "      <td>0.0</td>\n",
              "      <td>0.0</td>\n",
              "      <td>-inf</td>\n",
              "      <td>5505.0</td>\n",
              "      <td>-40.0</td>\n",
              "      <td>NaN</td>\n",
              "      <td>NaN</td>\n",
              "      <td>NaN</td>\n",
              "    </tr>\n",
              "    <tr>\n",
              "      <th>3</th>\n",
              "      <td>2018-01-02T00:00:00</td>\n",
              "      <td>GHCND:USC00280907</td>\n",
              "      <td>0.0</td>\n",
              "      <td>0.0</td>\n",
              "      <td>-inf</td>\n",
              "      <td>-8.3</td>\n",
              "      <td>-16.1</td>\n",
              "      <td>-12.2</td>\n",
              "      <td>NaN</td>\n",
              "      <td>False</td>\n",
              "    </tr>\n",
              "    <tr>\n",
              "      <th>4</th>\n",
              "      <td>2018-01-03T00:00:00</td>\n",
              "      <td>GHCND:USC00280907</td>\n",
              "      <td>0.0</td>\n",
              "      <td>0.0</td>\n",
              "      <td>-inf</td>\n",
              "      <td>-4.4</td>\n",
              "      <td>-13.9</td>\n",
              "      <td>-13.3</td>\n",
              "      <td>NaN</td>\n",
              "      <td>False</td>\n",
              "    </tr>\n",
              "  </tbody>\n",
              "</table>\n",
              "</div>"
            ],
            "text/plain": [
              "                  date            station  PRCP  SNOW  SNWD    TMAX  TMIN  \\\n",
              "0  2018-01-01T00:00:00                  ?   0.0   0.0  -inf  5505.0 -40.0   \n",
              "1  2018-01-01T00:00:00                  ?   0.0   0.0  -inf  5505.0 -40.0   \n",
              "2  2018-01-01T00:00:00                  ?   0.0   0.0  -inf  5505.0 -40.0   \n",
              "3  2018-01-02T00:00:00  GHCND:USC00280907   0.0   0.0  -inf    -8.3 -16.1   \n",
              "4  2018-01-03T00:00:00  GHCND:USC00280907   0.0   0.0  -inf    -4.4 -13.9   \n",
              "\n",
              "   TOBS  WESF inclement_weather  \n",
              "0   NaN   NaN               NaN  \n",
              "1   NaN   NaN               NaN  \n",
              "2   NaN   NaN               NaN  \n",
              "3 -12.2   NaN             False  \n",
              "4 -13.3   NaN             False  "
            ]
          },
          "execution_count": 5,
          "metadata": {},
          "output_type": "execute_result"
        }
      ],
      "source": [
        "df.head()"
      ]
    },
    {
      "cell_type": "code",
      "execution_count": null,
      "id": "5da15b0e-15bd-423d-aab7-88c58b0e4518",
      "metadata": {
        "id": "5da15b0e-15bd-423d-aab7-88c58b0e4518",
        "outputId": "7da11f9e-5d71-4b02-f486-ebaa92fbe045"
      },
      "outputs": [
        {
          "name": "stderr",
          "output_type": "stream",
          "text": [
            "C:\\Users\\Daryll\\anaconda3\\Lib\\site-packages\\numpy\\core\\_methods.py:49: RuntimeWarning: invalid value encountered in reduce\n",
            "  return umr_sum(a, axis, dtype, out, keepdims, initial, where)\n",
            "C:\\Users\\Daryll\\anaconda3\\Lib\\site-packages\\numpy\\lib\\function_base.py:4655: RuntimeWarning: invalid value encountered in subtract\n",
            "  diff_b_a = subtract(b, a)\n"
          ]
        },
        {
          "data": {
            "text/html": [
              "<div>\n",
              "<style scoped>\n",
              "    .dataframe tbody tr th:only-of-type {\n",
              "        vertical-align: middle;\n",
              "    }\n",
              "\n",
              "    .dataframe tbody tr th {\n",
              "        vertical-align: top;\n",
              "    }\n",
              "\n",
              "    .dataframe thead th {\n",
              "        text-align: right;\n",
              "    }\n",
              "</style>\n",
              "<table border=\"1\" class=\"dataframe\">\n",
              "  <thead>\n",
              "    <tr style=\"text-align: right;\">\n",
              "      <th></th>\n",
              "      <th>PRCP</th>\n",
              "      <th>SNOW</th>\n",
              "      <th>SNWD</th>\n",
              "      <th>TMAX</th>\n",
              "      <th>TMIN</th>\n",
              "      <th>TOBS</th>\n",
              "      <th>WESF</th>\n",
              "    </tr>\n",
              "  </thead>\n",
              "  <tbody>\n",
              "    <tr>\n",
              "      <th>count</th>\n",
              "      <td>765.000000</td>\n",
              "      <td>577.000000</td>\n",
              "      <td>577.0</td>\n",
              "      <td>765.000000</td>\n",
              "      <td>765.000000</td>\n",
              "      <td>398.000000</td>\n",
              "      <td>11.000000</td>\n",
              "    </tr>\n",
              "    <tr>\n",
              "      <th>mean</th>\n",
              "      <td>5.360392</td>\n",
              "      <td>4.202773</td>\n",
              "      <td>NaN</td>\n",
              "      <td>2649.175294</td>\n",
              "      <td>-15.914379</td>\n",
              "      <td>8.632161</td>\n",
              "      <td>16.290909</td>\n",
              "    </tr>\n",
              "    <tr>\n",
              "      <th>std</th>\n",
              "      <td>10.002138</td>\n",
              "      <td>25.086077</td>\n",
              "      <td>NaN</td>\n",
              "      <td>2744.156281</td>\n",
              "      <td>24.242849</td>\n",
              "      <td>9.815054</td>\n",
              "      <td>9.489832</td>\n",
              "    </tr>\n",
              "    <tr>\n",
              "      <th>min</th>\n",
              "      <td>0.000000</td>\n",
              "      <td>0.000000</td>\n",
              "      <td>-inf</td>\n",
              "      <td>-11.700000</td>\n",
              "      <td>-40.000000</td>\n",
              "      <td>-16.100000</td>\n",
              "      <td>1.800000</td>\n",
              "    </tr>\n",
              "    <tr>\n",
              "      <th>25%</th>\n",
              "      <td>0.000000</td>\n",
              "      <td>0.000000</td>\n",
              "      <td>NaN</td>\n",
              "      <td>13.300000</td>\n",
              "      <td>-40.000000</td>\n",
              "      <td>0.150000</td>\n",
              "      <td>8.600000</td>\n",
              "    </tr>\n",
              "    <tr>\n",
              "      <th>50%</th>\n",
              "      <td>0.000000</td>\n",
              "      <td>0.000000</td>\n",
              "      <td>NaN</td>\n",
              "      <td>32.800000</td>\n",
              "      <td>-11.100000</td>\n",
              "      <td>8.300000</td>\n",
              "      <td>19.300000</td>\n",
              "    </tr>\n",
              "    <tr>\n",
              "      <th>75%</th>\n",
              "      <td>5.800000</td>\n",
              "      <td>0.000000</td>\n",
              "      <td>NaN</td>\n",
              "      <td>5505.000000</td>\n",
              "      <td>6.700000</td>\n",
              "      <td>18.300000</td>\n",
              "      <td>24.900000</td>\n",
              "    </tr>\n",
              "    <tr>\n",
              "      <th>max</th>\n",
              "      <td>61.700000</td>\n",
              "      <td>229.000000</td>\n",
              "      <td>inf</td>\n",
              "      <td>5505.000000</td>\n",
              "      <td>23.900000</td>\n",
              "      <td>26.100000</td>\n",
              "      <td>28.700000</td>\n",
              "    </tr>\n",
              "  </tbody>\n",
              "</table>\n",
              "</div>"
            ],
            "text/plain": [
              "             PRCP        SNOW   SNWD         TMAX        TMIN        TOBS  \\\n",
              "count  765.000000  577.000000  577.0   765.000000  765.000000  398.000000   \n",
              "mean     5.360392    4.202773    NaN  2649.175294  -15.914379    8.632161   \n",
              "std     10.002138   25.086077    NaN  2744.156281   24.242849    9.815054   \n",
              "min      0.000000    0.000000   -inf   -11.700000  -40.000000  -16.100000   \n",
              "25%      0.000000    0.000000    NaN    13.300000  -40.000000    0.150000   \n",
              "50%      0.000000    0.000000    NaN    32.800000  -11.100000    8.300000   \n",
              "75%      5.800000    0.000000    NaN  5505.000000    6.700000   18.300000   \n",
              "max     61.700000  229.000000    inf  5505.000000   23.900000   26.100000   \n",
              "\n",
              "            WESF  \n",
              "count  11.000000  \n",
              "mean   16.290909  \n",
              "std     9.489832  \n",
              "min     1.800000  \n",
              "25%     8.600000  \n",
              "50%    19.300000  \n",
              "75%    24.900000  \n",
              "max    28.700000  "
            ]
          },
          "execution_count": 7,
          "metadata": {},
          "output_type": "execute_result"
        }
      ],
      "source": [
        "df.describe()"
      ]
    },
    {
      "cell_type": "code",
      "execution_count": null,
      "id": "62ddb2e8-b998-4802-b1d3-c41f9baf6be0",
      "metadata": {
        "id": "62ddb2e8-b998-4802-b1d3-c41f9baf6be0",
        "outputId": "0ddd326d-1c15-41bc-a233-d5a0ab3d64ca"
      },
      "outputs": [
        {
          "name": "stdout",
          "output_type": "stream",
          "text": [
            "<class 'pandas.core.frame.DataFrame'>\n",
            "RangeIndex: 765 entries, 0 to 764\n",
            "Data columns (total 10 columns):\n",
            " #   Column             Non-Null Count  Dtype  \n",
            "---  ------             --------------  -----  \n",
            " 0   date               765 non-null    object \n",
            " 1   station            765 non-null    object \n",
            " 2   PRCP               765 non-null    float64\n",
            " 3   SNOW               577 non-null    float64\n",
            " 4   SNWD               577 non-null    float64\n",
            " 5   TMAX               765 non-null    float64\n",
            " 6   TMIN               765 non-null    float64\n",
            " 7   TOBS               398 non-null    float64\n",
            " 8   WESF               11 non-null     float64\n",
            " 9   inclement_weather  408 non-null    object \n",
            "dtypes: float64(7), object(3)\n",
            "memory usage: 59.9+ KB\n"
          ]
        }
      ],
      "source": [
        "df.info()"
      ]
    },
    {
      "cell_type": "code",
      "execution_count": null,
      "id": "7ea9a3d6-a395-4612-876d-9d5a9cbba587",
      "metadata": {
        "id": "7ea9a3d6-a395-4612-876d-9d5a9cbba587",
        "outputId": "0243cd70-c793-473c-fb68-aa6f25543f90"
      },
      "outputs": [
        {
          "data": {
            "text/plain": [
              "765"
            ]
          },
          "execution_count": 11,
          "metadata": {},
          "output_type": "execute_result"
        }
      ],
      "source": [
        "contain_nulls = df[\n",
        "    df.SNOW.isnull() | df.SNWD.isna()\\\n",
        "    | pd.isnull(df.TOBS) | pd.isna(df.WESF)\\\n",
        "    | df.inclement_weather.isna()\n",
        "]\n",
        "contain_nulls.shape[0]"
      ]
    },
    {
      "cell_type": "code",
      "execution_count": null,
      "id": "c209b6c9-1c17-40f4-addb-7fa5d4b5c717",
      "metadata": {
        "id": "c209b6c9-1c17-40f4-addb-7fa5d4b5c717",
        "outputId": "7c78b8ae-08d2-4ee9-d226-e6d5f5b69ed9"
      },
      "outputs": [
        {
          "data": {
            "text/html": [
              "<div>\n",
              "<style scoped>\n",
              "    .dataframe tbody tr th:only-of-type {\n",
              "        vertical-align: middle;\n",
              "    }\n",
              "\n",
              "    .dataframe tbody tr th {\n",
              "        vertical-align: top;\n",
              "    }\n",
              "\n",
              "    .dataframe thead th {\n",
              "        text-align: right;\n",
              "    }\n",
              "</style>\n",
              "<table border=\"1\" class=\"dataframe\">\n",
              "  <thead>\n",
              "    <tr style=\"text-align: right;\">\n",
              "      <th></th>\n",
              "      <th>date</th>\n",
              "      <th>station</th>\n",
              "      <th>PRCP</th>\n",
              "      <th>SNOW</th>\n",
              "      <th>SNWD</th>\n",
              "      <th>TMAX</th>\n",
              "      <th>TMIN</th>\n",
              "      <th>TOBS</th>\n",
              "      <th>WESF</th>\n",
              "      <th>inclement_weather</th>\n",
              "    </tr>\n",
              "  </thead>\n",
              "  <tbody>\n",
              "    <tr>\n",
              "      <th>0</th>\n",
              "      <td>2018-01-01T00:00:00</td>\n",
              "      <td>?</td>\n",
              "      <td>0.0</td>\n",
              "      <td>0.0</td>\n",
              "      <td>-inf</td>\n",
              "      <td>5505.0</td>\n",
              "      <td>-40.0</td>\n",
              "      <td>NaN</td>\n",
              "      <td>NaN</td>\n",
              "      <td>NaN</td>\n",
              "    </tr>\n",
              "    <tr>\n",
              "      <th>1</th>\n",
              "      <td>2018-01-01T00:00:00</td>\n",
              "      <td>?</td>\n",
              "      <td>0.0</td>\n",
              "      <td>0.0</td>\n",
              "      <td>-inf</td>\n",
              "      <td>5505.0</td>\n",
              "      <td>-40.0</td>\n",
              "      <td>NaN</td>\n",
              "      <td>NaN</td>\n",
              "      <td>NaN</td>\n",
              "    </tr>\n",
              "    <tr>\n",
              "      <th>2</th>\n",
              "      <td>2018-01-01T00:00:00</td>\n",
              "      <td>?</td>\n",
              "      <td>0.0</td>\n",
              "      <td>0.0</td>\n",
              "      <td>-inf</td>\n",
              "      <td>5505.0</td>\n",
              "      <td>-40.0</td>\n",
              "      <td>NaN</td>\n",
              "      <td>NaN</td>\n",
              "      <td>NaN</td>\n",
              "    </tr>\n",
              "    <tr>\n",
              "      <th>3</th>\n",
              "      <td>2018-01-02T00:00:00</td>\n",
              "      <td>GHCND:USC00280907</td>\n",
              "      <td>0.0</td>\n",
              "      <td>0.0</td>\n",
              "      <td>-inf</td>\n",
              "      <td>-8.3</td>\n",
              "      <td>-16.1</td>\n",
              "      <td>-12.2</td>\n",
              "      <td>NaN</td>\n",
              "      <td>False</td>\n",
              "    </tr>\n",
              "    <tr>\n",
              "      <th>4</th>\n",
              "      <td>2018-01-03T00:00:00</td>\n",
              "      <td>GHCND:USC00280907</td>\n",
              "      <td>0.0</td>\n",
              "      <td>0.0</td>\n",
              "      <td>-inf</td>\n",
              "      <td>-4.4</td>\n",
              "      <td>-13.9</td>\n",
              "      <td>-13.3</td>\n",
              "      <td>NaN</td>\n",
              "      <td>False</td>\n",
              "    </tr>\n",
              "    <tr>\n",
              "      <th>5</th>\n",
              "      <td>2018-01-03T00:00:00</td>\n",
              "      <td>GHCND:USC00280907</td>\n",
              "      <td>0.0</td>\n",
              "      <td>0.0</td>\n",
              "      <td>-inf</td>\n",
              "      <td>-4.4</td>\n",
              "      <td>-13.9</td>\n",
              "      <td>-13.3</td>\n",
              "      <td>NaN</td>\n",
              "      <td>False</td>\n",
              "    </tr>\n",
              "    <tr>\n",
              "      <th>6</th>\n",
              "      <td>2018-01-03T00:00:00</td>\n",
              "      <td>GHCND:USC00280907</td>\n",
              "      <td>0.0</td>\n",
              "      <td>0.0</td>\n",
              "      <td>-inf</td>\n",
              "      <td>-4.4</td>\n",
              "      <td>-13.9</td>\n",
              "      <td>-13.3</td>\n",
              "      <td>NaN</td>\n",
              "      <td>False</td>\n",
              "    </tr>\n",
              "    <tr>\n",
              "      <th>7</th>\n",
              "      <td>2018-01-04T00:00:00</td>\n",
              "      <td>?</td>\n",
              "      <td>20.6</td>\n",
              "      <td>229.0</td>\n",
              "      <td>inf</td>\n",
              "      <td>5505.0</td>\n",
              "      <td>-40.0</td>\n",
              "      <td>NaN</td>\n",
              "      <td>19.3</td>\n",
              "      <td>True</td>\n",
              "    </tr>\n",
              "    <tr>\n",
              "      <th>8</th>\n",
              "      <td>2018-01-04T00:00:00</td>\n",
              "      <td>?</td>\n",
              "      <td>20.6</td>\n",
              "      <td>229.0</td>\n",
              "      <td>inf</td>\n",
              "      <td>5505.0</td>\n",
              "      <td>-40.0</td>\n",
              "      <td>NaN</td>\n",
              "      <td>19.3</td>\n",
              "      <td>True</td>\n",
              "    </tr>\n",
              "    <tr>\n",
              "      <th>9</th>\n",
              "      <td>2018-01-05T00:00:00</td>\n",
              "      <td>?</td>\n",
              "      <td>0.3</td>\n",
              "      <td>NaN</td>\n",
              "      <td>NaN</td>\n",
              "      <td>5505.0</td>\n",
              "      <td>-40.0</td>\n",
              "      <td>NaN</td>\n",
              "      <td>NaN</td>\n",
              "      <td>NaN</td>\n",
              "    </tr>\n",
              "  </tbody>\n",
              "</table>\n",
              "</div>"
            ],
            "text/plain": [
              "                  date            station  PRCP   SNOW  SNWD    TMAX  TMIN  \\\n",
              "0  2018-01-01T00:00:00                  ?   0.0    0.0  -inf  5505.0 -40.0   \n",
              "1  2018-01-01T00:00:00                  ?   0.0    0.0  -inf  5505.0 -40.0   \n",
              "2  2018-01-01T00:00:00                  ?   0.0    0.0  -inf  5505.0 -40.0   \n",
              "3  2018-01-02T00:00:00  GHCND:USC00280907   0.0    0.0  -inf    -8.3 -16.1   \n",
              "4  2018-01-03T00:00:00  GHCND:USC00280907   0.0    0.0  -inf    -4.4 -13.9   \n",
              "5  2018-01-03T00:00:00  GHCND:USC00280907   0.0    0.0  -inf    -4.4 -13.9   \n",
              "6  2018-01-03T00:00:00  GHCND:USC00280907   0.0    0.0  -inf    -4.4 -13.9   \n",
              "7  2018-01-04T00:00:00                  ?  20.6  229.0   inf  5505.0 -40.0   \n",
              "8  2018-01-04T00:00:00                  ?  20.6  229.0   inf  5505.0 -40.0   \n",
              "9  2018-01-05T00:00:00                  ?   0.3    NaN   NaN  5505.0 -40.0   \n",
              "\n",
              "   TOBS  WESF inclement_weather  \n",
              "0   NaN   NaN               NaN  \n",
              "1   NaN   NaN               NaN  \n",
              "2   NaN   NaN               NaN  \n",
              "3 -12.2   NaN             False  \n",
              "4 -13.3   NaN             False  \n",
              "5 -13.3   NaN             False  \n",
              "6 -13.3   NaN             False  \n",
              "7   NaN  19.3              True  \n",
              "8   NaN  19.3              True  \n",
              "9   NaN   NaN               NaN  "
            ]
          },
          "execution_count": 13,
          "metadata": {},
          "output_type": "execute_result"
        }
      ],
      "source": [
        "contain_nulls.head(10)"
      ]
    },
    {
      "cell_type": "code",
      "execution_count": null,
      "id": "ce71fd66-a357-44a7-b7a8-aa75088a9e38",
      "metadata": {
        "id": "ce71fd66-a357-44a7-b7a8-aa75088a9e38",
        "outputId": "e39f9eaa-3f60-4f6b-f55a-ac0d345f68dd"
      },
      "outputs": [
        {
          "data": {
            "text/plain": [
              "0"
            ]
          },
          "execution_count": 15,
          "metadata": {},
          "output_type": "execute_result"
        }
      ],
      "source": [
        "df[df.inclement_weather == 'NaN'].shape[0]"
      ]
    },
    {
      "cell_type": "code",
      "execution_count": null,
      "id": "c16a6da6-cd08-4f2d-bb5d-0da778706f86",
      "metadata": {
        "id": "c16a6da6-cd08-4f2d-bb5d-0da778706f86",
        "outputId": "b7fefe30-52c1-4cc4-f210-6100f0162a78"
      },
      "outputs": [
        {
          "data": {
            "text/plain": [
              "0"
            ]
          },
          "execution_count": 17,
          "metadata": {},
          "output_type": "execute_result"
        }
      ],
      "source": [
        "import numpy as np\n",
        "df[df.inclement_weather == np.nan].shape[0]"
      ]
    },
    {
      "cell_type": "code",
      "execution_count": null,
      "id": "127ee15d-e54a-4809-8a25-e909bf1876b9",
      "metadata": {
        "id": "127ee15d-e54a-4809-8a25-e909bf1876b9",
        "outputId": "86e600af-46c6-4c76-bf6a-9d2699ac744f"
      },
      "outputs": [
        {
          "data": {
            "text/plain": [
              "357"
            ]
          },
          "execution_count": 19,
          "metadata": {},
          "output_type": "execute_result"
        }
      ],
      "source": [
        "df[df.inclement_weather.isna()].shape[0]"
      ]
    },
    {
      "cell_type": "code",
      "execution_count": null,
      "id": "8a43f2a7-4cd5-48e9-af20-10890cbc1f9d",
      "metadata": {
        "id": "8a43f2a7-4cd5-48e9-af20-10890cbc1f9d",
        "outputId": "c4fdcdc3-6312-4200-b709-3d783573e286"
      },
      "outputs": [
        {
          "data": {
            "text/plain": [
              "577"
            ]
          },
          "execution_count": 21,
          "metadata": {},
          "output_type": "execute_result"
        }
      ],
      "source": [
        "df[df.SNWD.isin([-np.inf, np.inf])].shape[0]"
      ]
    },
    {
      "cell_type": "code",
      "execution_count": null,
      "id": "3705122c-d733-4c1a-9b05-7ae8d8ce4481",
      "metadata": {
        "id": "3705122c-d733-4c1a-9b05-7ae8d8ce4481",
        "outputId": "5cd906e5-df9a-4cbd-a847-e24c0ee4ed52"
      },
      "outputs": [
        {
          "data": {
            "text/plain": [
              "{'date': 0,\n",
              " 'station': 0,\n",
              " 'PRCP': 0,\n",
              " 'SNOW': 0,\n",
              " 'SNWD': 577,\n",
              " 'TMAX': 0,\n",
              " 'TMIN': 0,\n",
              " 'TOBS': 0,\n",
              " 'WESF': 0,\n",
              " 'inclement_weather': 0}"
            ]
          },
          "execution_count": 23,
          "metadata": {},
          "output_type": "execute_result"
        }
      ],
      "source": [
        "import numpy as np\n",
        "\n",
        "def get_inf_count(df):\n",
        "    \"\"\"Find the number of inf/-inf values per column in the dataframe\"\"\"\n",
        "    return {\n",
        "        col : df[df[col].isin([np.inf, -np.inf])].shape[0] for col in df.columns\n",
        "    }\n",
        "get_inf_count(df)"
      ]
    },
    {
      "cell_type": "code",
      "execution_count": null,
      "id": "f79726af-9b08-4157-8af4-509048fd32e4",
      "metadata": {
        "id": "f79726af-9b08-4157-8af4-509048fd32e4",
        "outputId": "adfbd614-0f93-42b5-85ca-3136f7325582"
      },
      "outputs": [
        {
          "data": {
            "text/html": [
              "<div>\n",
              "<style scoped>\n",
              "    .dataframe tbody tr th:only-of-type {\n",
              "        vertical-align: middle;\n",
              "    }\n",
              "\n",
              "    .dataframe tbody tr th {\n",
              "        vertical-align: top;\n",
              "    }\n",
              "\n",
              "    .dataframe thead th {\n",
              "        text-align: right;\n",
              "    }\n",
              "</style>\n",
              "<table border=\"1\" class=\"dataframe\">\n",
              "  <thead>\n",
              "    <tr style=\"text-align: right;\">\n",
              "      <th></th>\n",
              "      <th>count</th>\n",
              "      <th>mean</th>\n",
              "      <th>std</th>\n",
              "      <th>min</th>\n",
              "      <th>25%</th>\n",
              "      <th>50%</th>\n",
              "      <th>75%</th>\n",
              "      <th>max</th>\n",
              "    </tr>\n",
              "  </thead>\n",
              "  <tbody>\n",
              "    <tr>\n",
              "      <th>np.inf Snow Depth</th>\n",
              "      <td>24.0</td>\n",
              "      <td>101.041667</td>\n",
              "      <td>74.498018</td>\n",
              "      <td>13.0</td>\n",
              "      <td>25.0</td>\n",
              "      <td>120.5</td>\n",
              "      <td>152.0</td>\n",
              "      <td>229.0</td>\n",
              "    </tr>\n",
              "    <tr>\n",
              "      <th>-np.inf Snow Depth</th>\n",
              "      <td>553.0</td>\n",
              "      <td>0.000000</td>\n",
              "      <td>0.000000</td>\n",
              "      <td>0.0</td>\n",
              "      <td>0.0</td>\n",
              "      <td>0.0</td>\n",
              "      <td>0.0</td>\n",
              "      <td>0.0</td>\n",
              "    </tr>\n",
              "  </tbody>\n",
              "</table>\n",
              "</div>"
            ],
            "text/plain": [
              "                    count        mean        std   min   25%    50%    75%  \\\n",
              "np.inf Snow Depth    24.0  101.041667  74.498018  13.0  25.0  120.5  152.0   \n",
              "-np.inf Snow Depth  553.0    0.000000   0.000000   0.0   0.0    0.0    0.0   \n",
              "\n",
              "                      max  \n",
              "np.inf Snow Depth   229.0  \n",
              "-np.inf Snow Depth    0.0  "
            ]
          },
          "execution_count": 25,
          "metadata": {},
          "output_type": "execute_result"
        }
      ],
      "source": [
        "pd.DataFrame({\n",
        "    'np.inf Snow Depth': df[df.SNWD == np.inf].SNOW.describe(),\n",
        "    '-np.inf Snow Depth': df[df.SNWD == -np.inf].SNOW.describe()\n",
        "}).T"
      ]
    },
    {
      "cell_type": "code",
      "execution_count": null,
      "id": "af3a7f9d-c3ba-4e6a-b542-7c506b87c01e",
      "metadata": {
        "id": "af3a7f9d-c3ba-4e6a-b542-7c506b87c01e",
        "outputId": "5b85d23e-3697-42dd-a498-9063143b6a8f"
      },
      "outputs": [
        {
          "data": {
            "text/html": [
              "<div>\n",
              "<style scoped>\n",
              "    .dataframe tbody tr th:only-of-type {\n",
              "        vertical-align: middle;\n",
              "    }\n",
              "\n",
              "    .dataframe tbody tr th {\n",
              "        vertical-align: top;\n",
              "    }\n",
              "\n",
              "    .dataframe thead th {\n",
              "        text-align: right;\n",
              "    }\n",
              "</style>\n",
              "<table border=\"1\" class=\"dataframe\">\n",
              "  <thead>\n",
              "    <tr style=\"text-align: right;\">\n",
              "      <th></th>\n",
              "      <th>date</th>\n",
              "      <th>station</th>\n",
              "      <th>inclement_weather</th>\n",
              "    </tr>\n",
              "  </thead>\n",
              "  <tbody>\n",
              "    <tr>\n",
              "      <th>count</th>\n",
              "      <td>765</td>\n",
              "      <td>765</td>\n",
              "      <td>408</td>\n",
              "    </tr>\n",
              "    <tr>\n",
              "      <th>unique</th>\n",
              "      <td>324</td>\n",
              "      <td>2</td>\n",
              "      <td>2</td>\n",
              "    </tr>\n",
              "    <tr>\n",
              "      <th>top</th>\n",
              "      <td>2018-07-05T00:00:00</td>\n",
              "      <td>GHCND:USC00280907</td>\n",
              "      <td>False</td>\n",
              "    </tr>\n",
              "    <tr>\n",
              "      <th>freq</th>\n",
              "      <td>8</td>\n",
              "      <td>398</td>\n",
              "      <td>384</td>\n",
              "    </tr>\n",
              "  </tbody>\n",
              "</table>\n",
              "</div>"
            ],
            "text/plain": [
              "                       date            station inclement_weather\n",
              "count                   765                765               408\n",
              "unique                  324                  2                 2\n",
              "top     2018-07-05T00:00:00  GHCND:USC00280907             False\n",
              "freq                      8                398               384"
            ]
          },
          "execution_count": 27,
          "metadata": {},
          "output_type": "execute_result"
        }
      ],
      "source": [
        "df.describe(include='object')"
      ]
    },
    {
      "cell_type": "code",
      "execution_count": null,
      "id": "ba94bfca-f78c-4fe1-85f6-deed850b9000",
      "metadata": {
        "id": "ba94bfca-f78c-4fe1-85f6-deed850b9000",
        "outputId": "bd736699-ffe2-4245-bfa5-51c8b77a2477"
      },
      "outputs": [
        {
          "data": {
            "text/plain": [
              "284"
            ]
          },
          "execution_count": 29,
          "metadata": {},
          "output_type": "execute_result"
        }
      ],
      "source": [
        "df[df.duplicated()].shape[0]"
      ]
    },
    {
      "cell_type": "code",
      "execution_count": null,
      "id": "41974b6f-7ea9-4ddf-b7ef-6ff0d978ce54",
      "metadata": {
        "id": "41974b6f-7ea9-4ddf-b7ef-6ff0d978ce54",
        "outputId": "7ad6f42c-4624-4ff7-fa04-235b3216e703"
      },
      "outputs": [
        {
          "data": {
            "text/plain": [
              "482"
            ]
          },
          "execution_count": 31,
          "metadata": {},
          "output_type": "execute_result"
        }
      ],
      "source": [
        "df[df.duplicated(keep=False)].shape[0]"
      ]
    },
    {
      "cell_type": "code",
      "execution_count": null,
      "id": "3ea6da88-1b81-4e4b-bb17-260fb132559e",
      "metadata": {
        "id": "3ea6da88-1b81-4e4b-bb17-260fb132559e",
        "outputId": "52ac7e11-6e81-41c5-a119-00634941275e"
      },
      "outputs": [
        {
          "data": {
            "text/plain": [
              "284"
            ]
          },
          "execution_count": 33,
          "metadata": {},
          "output_type": "execute_result"
        }
      ],
      "source": [
        "df[df.duplicated(['date', 'station'])].shape[0]"
      ]
    },
    {
      "cell_type": "code",
      "execution_count": null,
      "id": "38070a3c-968e-427e-9f8e-9b107d61b6da",
      "metadata": {
        "id": "38070a3c-968e-427e-9f8e-9b107d61b6da",
        "outputId": "88f44a7f-866f-46ab-fba8-b0feac0b8204"
      },
      "outputs": [
        {
          "data": {
            "text/html": [
              "<div>\n",
              "<style scoped>\n",
              "    .dataframe tbody tr th:only-of-type {\n",
              "        vertical-align: middle;\n",
              "    }\n",
              "\n",
              "    .dataframe tbody tr th {\n",
              "        vertical-align: top;\n",
              "    }\n",
              "\n",
              "    .dataframe thead th {\n",
              "        text-align: right;\n",
              "    }\n",
              "</style>\n",
              "<table border=\"1\" class=\"dataframe\">\n",
              "  <thead>\n",
              "    <tr style=\"text-align: right;\">\n",
              "      <th></th>\n",
              "      <th>date</th>\n",
              "      <th>station</th>\n",
              "      <th>PRCP</th>\n",
              "      <th>SNOW</th>\n",
              "      <th>SNWD</th>\n",
              "      <th>TMAX</th>\n",
              "      <th>TMIN</th>\n",
              "      <th>TOBS</th>\n",
              "      <th>WESF</th>\n",
              "      <th>inclement_weather</th>\n",
              "    </tr>\n",
              "  </thead>\n",
              "  <tbody>\n",
              "    <tr>\n",
              "      <th>1</th>\n",
              "      <td>2018-01-01T00:00:00</td>\n",
              "      <td>?</td>\n",
              "      <td>0.0</td>\n",
              "      <td>0.0</td>\n",
              "      <td>-inf</td>\n",
              "      <td>5505.0</td>\n",
              "      <td>-40.0</td>\n",
              "      <td>NaN</td>\n",
              "      <td>NaN</td>\n",
              "      <td>NaN</td>\n",
              "    </tr>\n",
              "    <tr>\n",
              "      <th>2</th>\n",
              "      <td>2018-01-01T00:00:00</td>\n",
              "      <td>?</td>\n",
              "      <td>0.0</td>\n",
              "      <td>0.0</td>\n",
              "      <td>-inf</td>\n",
              "      <td>5505.0</td>\n",
              "      <td>-40.0</td>\n",
              "      <td>NaN</td>\n",
              "      <td>NaN</td>\n",
              "      <td>NaN</td>\n",
              "    </tr>\n",
              "    <tr>\n",
              "      <th>5</th>\n",
              "      <td>2018-01-03T00:00:00</td>\n",
              "      <td>GHCND:USC00280907</td>\n",
              "      <td>0.0</td>\n",
              "      <td>0.0</td>\n",
              "      <td>-inf</td>\n",
              "      <td>-4.4</td>\n",
              "      <td>-13.9</td>\n",
              "      <td>-13.3</td>\n",
              "      <td>NaN</td>\n",
              "      <td>False</td>\n",
              "    </tr>\n",
              "    <tr>\n",
              "      <th>6</th>\n",
              "      <td>2018-01-03T00:00:00</td>\n",
              "      <td>GHCND:USC00280907</td>\n",
              "      <td>0.0</td>\n",
              "      <td>0.0</td>\n",
              "      <td>-inf</td>\n",
              "      <td>-4.4</td>\n",
              "      <td>-13.9</td>\n",
              "      <td>-13.3</td>\n",
              "      <td>NaN</td>\n",
              "      <td>False</td>\n",
              "    </tr>\n",
              "    <tr>\n",
              "      <th>8</th>\n",
              "      <td>2018-01-04T00:00:00</td>\n",
              "      <td>?</td>\n",
              "      <td>20.6</td>\n",
              "      <td>229.0</td>\n",
              "      <td>inf</td>\n",
              "      <td>5505.0</td>\n",
              "      <td>-40.0</td>\n",
              "      <td>NaN</td>\n",
              "      <td>19.3</td>\n",
              "      <td>True</td>\n",
              "    </tr>\n",
              "  </tbody>\n",
              "</table>\n",
              "</div>"
            ],
            "text/plain": [
              "                  date            station  PRCP   SNOW  SNWD    TMAX  TMIN  \\\n",
              "1  2018-01-01T00:00:00                  ?   0.0    0.0  -inf  5505.0 -40.0   \n",
              "2  2018-01-01T00:00:00                  ?   0.0    0.0  -inf  5505.0 -40.0   \n",
              "5  2018-01-03T00:00:00  GHCND:USC00280907   0.0    0.0  -inf    -4.4 -13.9   \n",
              "6  2018-01-03T00:00:00  GHCND:USC00280907   0.0    0.0  -inf    -4.4 -13.9   \n",
              "8  2018-01-04T00:00:00                  ?  20.6  229.0   inf  5505.0 -40.0   \n",
              "\n",
              "   TOBS  WESF inclement_weather  \n",
              "1   NaN   NaN               NaN  \n",
              "2   NaN   NaN               NaN  \n",
              "5 -13.3   NaN             False  \n",
              "6 -13.3   NaN             False  \n",
              "8   NaN  19.3              True  "
            ]
          },
          "execution_count": 35,
          "metadata": {},
          "output_type": "execute_result"
        }
      ],
      "source": [
        "df[df.duplicated()].head()"
      ]
    },
    {
      "cell_type": "markdown",
      "source": [
        "## Mitigating Issues"
      ],
      "metadata": {
        "id": "wdN63_oPk7Ip"
      },
      "id": "wdN63_oPk7Ip"
    },
    {
      "cell_type": "markdown",
      "source": [
        "### Handling duplicated data"
      ],
      "metadata": {
        "id": "97DWIIh0k_li"
      },
      "id": "97DWIIh0k_li"
    },
    {
      "cell_type": "code",
      "execution_count": null,
      "id": "f07eb2a1-2cf9-4a41-973d-69fbca319cac",
      "metadata": {
        "id": "f07eb2a1-2cf9-4a41-973d-69fbca319cac",
        "outputId": "45d8b5a7-dfd5-4e85-8ae9-6e3b2925d5df"
      },
      "outputs": [
        {
          "data": {
            "text/plain": [
              "array(['?'], dtype=object)"
            ]
          },
          "execution_count": 37,
          "metadata": {},
          "output_type": "execute_result"
        }
      ],
      "source": [
        "df[df.WESF.notna()].station.unique()"
      ]
    },
    {
      "cell_type": "code",
      "execution_count": null,
      "id": "5634948f-6b7a-4eb8-a00b-99773a325145",
      "metadata": {
        "id": "5634948f-6b7a-4eb8-a00b-99773a325145",
        "outputId": "32bea7a7-2231-4ad3-d25a-917e0693923e"
      },
      "outputs": [
        {
          "data": {
            "text/plain": [
              "(324, 9)"
            ]
          },
          "execution_count": 39,
          "metadata": {},
          "output_type": "execute_result"
        }
      ],
      "source": [
        "# save this information for later\n",
        "station_qm_wesf = df[df.station == '?'].WESF\n",
        "# sort ? to the bottom\n",
        "df.sort_values('station', ascending=False, inplace=True)\n",
        "# drop duplicates based on the date column keeping the first occurrence\n",
        "# which will be the valid station if it has data\n",
        "df_deduped = df.drop_duplicates('date').drop(\n",
        "    # remove the station column because we are done with it\n",
        "    # and WESF because we need to replace it later\n",
        "    columns=['station', 'WESF']\n",
        ").sort_values('date').assign( # sort by the date\n",
        "    # add back the WESF column which will be properly matched because of the index\n",
        "    WESF=station_qm_wesf\n",
        ")\n",
        "df_deduped.shape"
      ]
    },
    {
      "cell_type": "code",
      "execution_count": null,
      "id": "b49bfbc9-a309-463c-aa86-90c5f37178c6",
      "metadata": {
        "id": "b49bfbc9-a309-463c-aa86-90c5f37178c6",
        "outputId": "b93ceb6e-5f41-4423-b399-857f864be59e"
      },
      "outputs": [
        {
          "data": {
            "text/html": [
              "<div>\n",
              "<style scoped>\n",
              "    .dataframe tbody tr th:only-of-type {\n",
              "        vertical-align: middle;\n",
              "    }\n",
              "\n",
              "    .dataframe tbody tr th {\n",
              "        vertical-align: top;\n",
              "    }\n",
              "\n",
              "    .dataframe thead th {\n",
              "        text-align: right;\n",
              "    }\n",
              "</style>\n",
              "<table border=\"1\" class=\"dataframe\">\n",
              "  <thead>\n",
              "    <tr style=\"text-align: right;\">\n",
              "      <th></th>\n",
              "      <th>date</th>\n",
              "      <th>PRCP</th>\n",
              "      <th>SNOW</th>\n",
              "      <th>SNWD</th>\n",
              "      <th>TMAX</th>\n",
              "      <th>TMIN</th>\n",
              "      <th>TOBS</th>\n",
              "      <th>inclement_weather</th>\n",
              "      <th>WESF</th>\n",
              "    </tr>\n",
              "  </thead>\n",
              "  <tbody>\n",
              "    <tr>\n",
              "      <th>0</th>\n",
              "      <td>2018-01-01T00:00:00</td>\n",
              "      <td>0.0</td>\n",
              "      <td>0.0</td>\n",
              "      <td>-inf</td>\n",
              "      <td>5505.0</td>\n",
              "      <td>-40.0</td>\n",
              "      <td>NaN</td>\n",
              "      <td>NaN</td>\n",
              "      <td>NaN</td>\n",
              "    </tr>\n",
              "    <tr>\n",
              "      <th>3</th>\n",
              "      <td>2018-01-02T00:00:00</td>\n",
              "      <td>0.0</td>\n",
              "      <td>0.0</td>\n",
              "      <td>-inf</td>\n",
              "      <td>-8.3</td>\n",
              "      <td>-16.1</td>\n",
              "      <td>-12.2</td>\n",
              "      <td>False</td>\n",
              "      <td>NaN</td>\n",
              "    </tr>\n",
              "    <tr>\n",
              "      <th>6</th>\n",
              "      <td>2018-01-03T00:00:00</td>\n",
              "      <td>0.0</td>\n",
              "      <td>0.0</td>\n",
              "      <td>-inf</td>\n",
              "      <td>-4.4</td>\n",
              "      <td>-13.9</td>\n",
              "      <td>-13.3</td>\n",
              "      <td>False</td>\n",
              "      <td>NaN</td>\n",
              "    </tr>\n",
              "    <tr>\n",
              "      <th>8</th>\n",
              "      <td>2018-01-04T00:00:00</td>\n",
              "      <td>20.6</td>\n",
              "      <td>229.0</td>\n",
              "      <td>inf</td>\n",
              "      <td>5505.0</td>\n",
              "      <td>-40.0</td>\n",
              "      <td>NaN</td>\n",
              "      <td>True</td>\n",
              "      <td>19.3</td>\n",
              "    </tr>\n",
              "    <tr>\n",
              "      <th>11</th>\n",
              "      <td>2018-01-05T00:00:00</td>\n",
              "      <td>14.2</td>\n",
              "      <td>127.0</td>\n",
              "      <td>inf</td>\n",
              "      <td>-4.4</td>\n",
              "      <td>-13.9</td>\n",
              "      <td>-13.9</td>\n",
              "      <td>True</td>\n",
              "      <td>NaN</td>\n",
              "    </tr>\n",
              "  </tbody>\n",
              "</table>\n",
              "</div>"
            ],
            "text/plain": [
              "                   date  PRCP   SNOW  SNWD    TMAX  TMIN  TOBS  \\\n",
              "0   2018-01-01T00:00:00   0.0    0.0  -inf  5505.0 -40.0   NaN   \n",
              "3   2018-01-02T00:00:00   0.0    0.0  -inf    -8.3 -16.1 -12.2   \n",
              "6   2018-01-03T00:00:00   0.0    0.0  -inf    -4.4 -13.9 -13.3   \n",
              "8   2018-01-04T00:00:00  20.6  229.0   inf  5505.0 -40.0   NaN   \n",
              "11  2018-01-05T00:00:00  14.2  127.0   inf    -4.4 -13.9 -13.9   \n",
              "\n",
              "   inclement_weather  WESF  \n",
              "0                NaN   NaN  \n",
              "3              False   NaN  \n",
              "6              False   NaN  \n",
              "8               True  19.3  \n",
              "11              True   NaN  "
            ]
          },
          "execution_count": 41,
          "metadata": {},
          "output_type": "execute_result"
        }
      ],
      "source": [
        "df_deduped.head()"
      ]
    },
    {
      "cell_type": "markdown",
      "source": [
        "###  Dealing with nulls"
      ],
      "metadata": {
        "id": "5rQ3_pB_lFCO"
      },
      "id": "5rQ3_pB_lFCO"
    },
    {
      "cell_type": "code",
      "execution_count": null,
      "id": "be416643-f325-401d-9442-8d8f1728260c",
      "metadata": {
        "id": "be416643-f325-401d-9442-8d8f1728260c",
        "outputId": "a545a151-fa2d-4c36-8cea-00d0744ccc46"
      },
      "outputs": [
        {
          "data": {
            "text/plain": [
              "(0, 9)"
            ]
          },
          "execution_count": 43,
          "metadata": {},
          "output_type": "execute_result"
        }
      ],
      "source": [
        "df_deduped.dropna().shape"
      ]
    },
    {
      "cell_type": "code",
      "execution_count": null,
      "id": "4c8c1ccd-1215-418a-9134-1eadc1531437",
      "metadata": {
        "id": "4c8c1ccd-1215-418a-9134-1eadc1531437",
        "outputId": "7eea1216-23f5-4c9b-9d38-18c978891e4c"
      },
      "outputs": [
        {
          "data": {
            "text/plain": [
              "(324, 9)"
            ]
          },
          "execution_count": 45,
          "metadata": {},
          "output_type": "execute_result"
        }
      ],
      "source": [
        "df_deduped.dropna(how='all').shape"
      ]
    },
    {
      "cell_type": "code",
      "execution_count": null,
      "id": "ba33f013-81c2-4f7b-86c0-b091e093c0f8",
      "metadata": {
        "id": "ba33f013-81c2-4f7b-86c0-b091e093c0f8",
        "outputId": "98f6b122-2a5d-4644-ac0a-b596ec9535c1"
      },
      "outputs": [
        {
          "data": {
            "text/plain": [
              "(293, 9)"
            ]
          },
          "execution_count": 47,
          "metadata": {},
          "output_type": "execute_result"
        }
      ],
      "source": [
        "df_deduped.dropna(\n",
        "    how='all', subset=['inclement_weather', 'SNOW', 'SNWD']\n",
        ").shape"
      ]
    },
    {
      "cell_type": "code",
      "execution_count": null,
      "id": "3eda4764-bf6e-4e02-bc92-d962dfa49ce5",
      "metadata": {
        "id": "3eda4764-bf6e-4e02-bc92-d962dfa49ce5",
        "outputId": "6218f7b7-66bd-490f-a8a9-cb11b34ccdf0"
      },
      "outputs": [
        {
          "data": {
            "text/plain": [
              "Index(['date', 'PRCP', 'SNOW', 'SNWD', 'TMAX', 'TMIN', 'TOBS',\n",
              "       'inclement_weather'],\n",
              "      dtype='object')"
            ]
          },
          "execution_count": 49,
          "metadata": {},
          "output_type": "execute_result"
        }
      ],
      "source": [
        "df_deduped.dropna(axis='columns', thresh=df_deduped.shape[0]*.75).columns"
      ]
    },
    {
      "cell_type": "code",
      "execution_count": null,
      "id": "754e5b80-3554-46a6-8409-de26db98e3df",
      "metadata": {
        "id": "754e5b80-3554-46a6-8409-de26db98e3df",
        "outputId": "adab6103-2a40-4a37-836d-c9e57507adc0"
      },
      "outputs": [
        {
          "name": "stderr",
          "output_type": "stream",
          "text": [
            "C:\\Users\\Daryll\\AppData\\Local\\Temp\\ipykernel_10448\\636578513.py:1: FutureWarning: A value is trying to be set on a copy of a DataFrame or Series through chained assignment using an inplace method.\n",
            "The behavior will change in pandas 3.0. This inplace method will never work because the intermediate object on which we are setting values always behaves as a copy.\n",
            "\n",
            "For example, when doing 'df[col].method(value, inplace=True)', try using 'df.method({col: value}, inplace=True)' or df[col] = df[col].method(value) instead, to perform the operation inplace on the original object.\n",
            "\n",
            "\n",
            "  df_deduped.loc[:,'WESF'].fillna(0, inplace=True)\n"
          ]
        },
        {
          "data": {
            "text/html": [
              "<div>\n",
              "<style scoped>\n",
              "    .dataframe tbody tr th:only-of-type {\n",
              "        vertical-align: middle;\n",
              "    }\n",
              "\n",
              "    .dataframe tbody tr th {\n",
              "        vertical-align: top;\n",
              "    }\n",
              "\n",
              "    .dataframe thead th {\n",
              "        text-align: right;\n",
              "    }\n",
              "</style>\n",
              "<table border=\"1\" class=\"dataframe\">\n",
              "  <thead>\n",
              "    <tr style=\"text-align: right;\">\n",
              "      <th></th>\n",
              "      <th>date</th>\n",
              "      <th>PRCP</th>\n",
              "      <th>SNOW</th>\n",
              "      <th>SNWD</th>\n",
              "      <th>TMAX</th>\n",
              "      <th>TMIN</th>\n",
              "      <th>TOBS</th>\n",
              "      <th>inclement_weather</th>\n",
              "      <th>WESF</th>\n",
              "    </tr>\n",
              "  </thead>\n",
              "  <tbody>\n",
              "    <tr>\n",
              "      <th>0</th>\n",
              "      <td>2018-01-01T00:00:00</td>\n",
              "      <td>0.0</td>\n",
              "      <td>0.0</td>\n",
              "      <td>-inf</td>\n",
              "      <td>5505.0</td>\n",
              "      <td>-40.0</td>\n",
              "      <td>NaN</td>\n",
              "      <td>NaN</td>\n",
              "      <td>0.0</td>\n",
              "    </tr>\n",
              "    <tr>\n",
              "      <th>3</th>\n",
              "      <td>2018-01-02T00:00:00</td>\n",
              "      <td>0.0</td>\n",
              "      <td>0.0</td>\n",
              "      <td>-inf</td>\n",
              "      <td>-8.3</td>\n",
              "      <td>-16.1</td>\n",
              "      <td>-12.2</td>\n",
              "      <td>False</td>\n",
              "      <td>0.0</td>\n",
              "    </tr>\n",
              "    <tr>\n",
              "      <th>6</th>\n",
              "      <td>2018-01-03T00:00:00</td>\n",
              "      <td>0.0</td>\n",
              "      <td>0.0</td>\n",
              "      <td>-inf</td>\n",
              "      <td>-4.4</td>\n",
              "      <td>-13.9</td>\n",
              "      <td>-13.3</td>\n",
              "      <td>False</td>\n",
              "      <td>0.0</td>\n",
              "    </tr>\n",
              "    <tr>\n",
              "      <th>8</th>\n",
              "      <td>2018-01-04T00:00:00</td>\n",
              "      <td>20.6</td>\n",
              "      <td>229.0</td>\n",
              "      <td>inf</td>\n",
              "      <td>5505.0</td>\n",
              "      <td>-40.0</td>\n",
              "      <td>NaN</td>\n",
              "      <td>True</td>\n",
              "      <td>19.3</td>\n",
              "    </tr>\n",
              "    <tr>\n",
              "      <th>11</th>\n",
              "      <td>2018-01-05T00:00:00</td>\n",
              "      <td>14.2</td>\n",
              "      <td>127.0</td>\n",
              "      <td>inf</td>\n",
              "      <td>-4.4</td>\n",
              "      <td>-13.9</td>\n",
              "      <td>-13.9</td>\n",
              "      <td>True</td>\n",
              "      <td>0.0</td>\n",
              "    </tr>\n",
              "  </tbody>\n",
              "</table>\n",
              "</div>"
            ],
            "text/plain": [
              "                   date  PRCP   SNOW  SNWD    TMAX  TMIN  TOBS  \\\n",
              "0   2018-01-01T00:00:00   0.0    0.0  -inf  5505.0 -40.0   NaN   \n",
              "3   2018-01-02T00:00:00   0.0    0.0  -inf    -8.3 -16.1 -12.2   \n",
              "6   2018-01-03T00:00:00   0.0    0.0  -inf    -4.4 -13.9 -13.3   \n",
              "8   2018-01-04T00:00:00  20.6  229.0   inf  5505.0 -40.0   NaN   \n",
              "11  2018-01-05T00:00:00  14.2  127.0   inf    -4.4 -13.9 -13.9   \n",
              "\n",
              "   inclement_weather  WESF  \n",
              "0                NaN   0.0  \n",
              "3              False   0.0  \n",
              "6              False   0.0  \n",
              "8               True  19.3  \n",
              "11              True   0.0  "
            ]
          },
          "execution_count": 51,
          "metadata": {},
          "output_type": "execute_result"
        }
      ],
      "source": [
        "df_deduped.loc[:,'WESF'].fillna(0, inplace=True)\n",
        "df_deduped.head()"
      ]
    },
    {
      "cell_type": "code",
      "execution_count": null,
      "id": "fa9b9421-4209-41ab-8030-3e373fd458d4",
      "metadata": {
        "id": "fa9b9421-4209-41ab-8030-3e373fd458d4",
        "outputId": "933a4f31-b2f1-46ea-9e9f-e38c6f6da796"
      },
      "outputs": [
        {
          "name": "stderr",
          "output_type": "stream",
          "text": [
            "C:\\Users\\Daryll\\AppData\\Local\\Temp\\ipykernel_10448\\1006343908.py:2: FutureWarning: Series.fillna with 'method' is deprecated and will raise in a future version. Use obj.ffill() or obj.bfill() instead.\n",
            "  TMAX=lambda x: x.TMAX.replace(5505, np.nan).fillna(method='ffill'),\n",
            "C:\\Users\\Daryll\\AppData\\Local\\Temp\\ipykernel_10448\\1006343908.py:3: FutureWarning: Series.fillna with 'method' is deprecated and will raise in a future version. Use obj.ffill() or obj.bfill() instead.\n",
            "  TMIN=lambda x: x.TMIN.replace(-40, np.nan).fillna(method='ffill')\n"
          ]
        },
        {
          "data": {
            "text/html": [
              "<div>\n",
              "<style scoped>\n",
              "    .dataframe tbody tr th:only-of-type {\n",
              "        vertical-align: middle;\n",
              "    }\n",
              "\n",
              "    .dataframe tbody tr th {\n",
              "        vertical-align: top;\n",
              "    }\n",
              "\n",
              "    .dataframe thead th {\n",
              "        text-align: right;\n",
              "    }\n",
              "</style>\n",
              "<table border=\"1\" class=\"dataframe\">\n",
              "  <thead>\n",
              "    <tr style=\"text-align: right;\">\n",
              "      <th></th>\n",
              "      <th>date</th>\n",
              "      <th>PRCP</th>\n",
              "      <th>SNOW</th>\n",
              "      <th>SNWD</th>\n",
              "      <th>TMAX</th>\n",
              "      <th>TMIN</th>\n",
              "      <th>TOBS</th>\n",
              "      <th>inclement_weather</th>\n",
              "      <th>WESF</th>\n",
              "    </tr>\n",
              "  </thead>\n",
              "  <tbody>\n",
              "    <tr>\n",
              "      <th>0</th>\n",
              "      <td>2018-01-01T00:00:00</td>\n",
              "      <td>0.0</td>\n",
              "      <td>0.0</td>\n",
              "      <td>-inf</td>\n",
              "      <td>NaN</td>\n",
              "      <td>NaN</td>\n",
              "      <td>NaN</td>\n",
              "      <td>NaN</td>\n",
              "      <td>0.0</td>\n",
              "    </tr>\n",
              "    <tr>\n",
              "      <th>3</th>\n",
              "      <td>2018-01-02T00:00:00</td>\n",
              "      <td>0.0</td>\n",
              "      <td>0.0</td>\n",
              "      <td>-inf</td>\n",
              "      <td>-8.3</td>\n",
              "      <td>-16.1</td>\n",
              "      <td>-12.2</td>\n",
              "      <td>False</td>\n",
              "      <td>0.0</td>\n",
              "    </tr>\n",
              "    <tr>\n",
              "      <th>6</th>\n",
              "      <td>2018-01-03T00:00:00</td>\n",
              "      <td>0.0</td>\n",
              "      <td>0.0</td>\n",
              "      <td>-inf</td>\n",
              "      <td>-4.4</td>\n",
              "      <td>-13.9</td>\n",
              "      <td>-13.3</td>\n",
              "      <td>False</td>\n",
              "      <td>0.0</td>\n",
              "    </tr>\n",
              "    <tr>\n",
              "      <th>8</th>\n",
              "      <td>2018-01-04T00:00:00</td>\n",
              "      <td>20.6</td>\n",
              "      <td>229.0</td>\n",
              "      <td>inf</td>\n",
              "      <td>-4.4</td>\n",
              "      <td>-13.9</td>\n",
              "      <td>NaN</td>\n",
              "      <td>True</td>\n",
              "      <td>19.3</td>\n",
              "    </tr>\n",
              "    <tr>\n",
              "      <th>11</th>\n",
              "      <td>2018-01-05T00:00:00</td>\n",
              "      <td>14.2</td>\n",
              "      <td>127.0</td>\n",
              "      <td>inf</td>\n",
              "      <td>-4.4</td>\n",
              "      <td>-13.9</td>\n",
              "      <td>-13.9</td>\n",
              "      <td>True</td>\n",
              "      <td>0.0</td>\n",
              "    </tr>\n",
              "  </tbody>\n",
              "</table>\n",
              "</div>"
            ],
            "text/plain": [
              "                   date  PRCP   SNOW  SNWD  TMAX  TMIN  TOBS  \\\n",
              "0   2018-01-01T00:00:00   0.0    0.0  -inf   NaN   NaN   NaN   \n",
              "3   2018-01-02T00:00:00   0.0    0.0  -inf  -8.3 -16.1 -12.2   \n",
              "6   2018-01-03T00:00:00   0.0    0.0  -inf  -4.4 -13.9 -13.3   \n",
              "8   2018-01-04T00:00:00  20.6  229.0   inf  -4.4 -13.9   NaN   \n",
              "11  2018-01-05T00:00:00  14.2  127.0   inf  -4.4 -13.9 -13.9   \n",
              "\n",
              "   inclement_weather  WESF  \n",
              "0                NaN   0.0  \n",
              "3              False   0.0  \n",
              "6              False   0.0  \n",
              "8               True  19.3  \n",
              "11              True   0.0  "
            ]
          },
          "execution_count": 53,
          "metadata": {},
          "output_type": "execute_result"
        }
      ],
      "source": [
        "df_deduped.assign(\n",
        "    TMAX=lambda x: x.TMAX.replace(5505, np.nan).fillna(method='ffill'),\n",
        "    TMIN=lambda x: x.TMIN.replace(-40, np.nan).fillna(method='ffill')\n",
        ").head()"
      ]
    },
    {
      "cell_type": "code",
      "execution_count": null,
      "id": "46642e5a-deef-4e9f-b456-428096810cc0",
      "metadata": {
        "id": "46642e5a-deef-4e9f-b456-428096810cc0",
        "outputId": "515fd7f2-ea19-4f8b-d4f5-e2c9bedb7186"
      },
      "outputs": [
        {
          "data": {
            "text/html": [
              "<div>\n",
              "<style scoped>\n",
              "    .dataframe tbody tr th:only-of-type {\n",
              "        vertical-align: middle;\n",
              "    }\n",
              "\n",
              "    .dataframe tbody tr th {\n",
              "        vertical-align: top;\n",
              "    }\n",
              "\n",
              "    .dataframe thead th {\n",
              "        text-align: right;\n",
              "    }\n",
              "</style>\n",
              "<table border=\"1\" class=\"dataframe\">\n",
              "  <thead>\n",
              "    <tr style=\"text-align: right;\">\n",
              "      <th></th>\n",
              "      <th>date</th>\n",
              "      <th>PRCP</th>\n",
              "      <th>SNOW</th>\n",
              "      <th>SNWD</th>\n",
              "      <th>TMAX</th>\n",
              "      <th>TMIN</th>\n",
              "      <th>TOBS</th>\n",
              "      <th>inclement_weather</th>\n",
              "      <th>WESF</th>\n",
              "    </tr>\n",
              "  </thead>\n",
              "  <tbody>\n",
              "    <tr>\n",
              "      <th>0</th>\n",
              "      <td>2018-01-01T00:00:00</td>\n",
              "      <td>0.0</td>\n",
              "      <td>0.0</td>\n",
              "      <td>-1.797693e+308</td>\n",
              "      <td>5505.0</td>\n",
              "      <td>-40.0</td>\n",
              "      <td>NaN</td>\n",
              "      <td>NaN</td>\n",
              "      <td>0.0</td>\n",
              "    </tr>\n",
              "    <tr>\n",
              "      <th>3</th>\n",
              "      <td>2018-01-02T00:00:00</td>\n",
              "      <td>0.0</td>\n",
              "      <td>0.0</td>\n",
              "      <td>-1.797693e+308</td>\n",
              "      <td>-8.3</td>\n",
              "      <td>-16.1</td>\n",
              "      <td>-12.2</td>\n",
              "      <td>False</td>\n",
              "      <td>0.0</td>\n",
              "    </tr>\n",
              "    <tr>\n",
              "      <th>6</th>\n",
              "      <td>2018-01-03T00:00:00</td>\n",
              "      <td>0.0</td>\n",
              "      <td>0.0</td>\n",
              "      <td>-1.797693e+308</td>\n",
              "      <td>-4.4</td>\n",
              "      <td>-13.9</td>\n",
              "      <td>-13.3</td>\n",
              "      <td>False</td>\n",
              "      <td>0.0</td>\n",
              "    </tr>\n",
              "    <tr>\n",
              "      <th>8</th>\n",
              "      <td>2018-01-04T00:00:00</td>\n",
              "      <td>20.6</td>\n",
              "      <td>229.0</td>\n",
              "      <td>1.797693e+308</td>\n",
              "      <td>5505.0</td>\n",
              "      <td>-40.0</td>\n",
              "      <td>NaN</td>\n",
              "      <td>True</td>\n",
              "      <td>19.3</td>\n",
              "    </tr>\n",
              "    <tr>\n",
              "      <th>11</th>\n",
              "      <td>2018-01-05T00:00:00</td>\n",
              "      <td>14.2</td>\n",
              "      <td>127.0</td>\n",
              "      <td>1.797693e+308</td>\n",
              "      <td>-4.4</td>\n",
              "      <td>-13.9</td>\n",
              "      <td>-13.9</td>\n",
              "      <td>True</td>\n",
              "      <td>0.0</td>\n",
              "    </tr>\n",
              "  </tbody>\n",
              "</table>\n",
              "</div>"
            ],
            "text/plain": [
              "                   date  PRCP   SNOW           SNWD    TMAX  TMIN  TOBS  \\\n",
              "0   2018-01-01T00:00:00   0.0    0.0 -1.797693e+308  5505.0 -40.0   NaN   \n",
              "3   2018-01-02T00:00:00   0.0    0.0 -1.797693e+308    -8.3 -16.1 -12.2   \n",
              "6   2018-01-03T00:00:00   0.0    0.0 -1.797693e+308    -4.4 -13.9 -13.3   \n",
              "8   2018-01-04T00:00:00  20.6  229.0  1.797693e+308  5505.0 -40.0   NaN   \n",
              "11  2018-01-05T00:00:00  14.2  127.0  1.797693e+308    -4.4 -13.9 -13.9   \n",
              "\n",
              "   inclement_weather  WESF  \n",
              "0                NaN   0.0  \n",
              "3              False   0.0  \n",
              "6              False   0.0  \n",
              "8               True  19.3  \n",
              "11              True   0.0  "
            ]
          },
          "execution_count": 55,
          "metadata": {},
          "output_type": "execute_result"
        }
      ],
      "source": [
        "df_deduped.assign(\n",
        "    SNWD=lambda x: np.nan_to_num(x.SNWD)\n",
        ").head()"
      ]
    },
    {
      "cell_type": "code",
      "execution_count": null,
      "id": "26170034-6eae-471f-9062-85a43ec48f74",
      "metadata": {
        "id": "26170034-6eae-471f-9062-85a43ec48f74",
        "outputId": "d4a51101-0c5f-4d5f-d021-f35a2d67e69d"
      },
      "outputs": [
        {
          "data": {
            "text/html": [
              "<div>\n",
              "<style scoped>\n",
              "    .dataframe tbody tr th:only-of-type {\n",
              "        vertical-align: middle;\n",
              "    }\n",
              "\n",
              "    .dataframe tbody tr th {\n",
              "        vertical-align: top;\n",
              "    }\n",
              "\n",
              "    .dataframe thead th {\n",
              "        text-align: right;\n",
              "    }\n",
              "</style>\n",
              "<table border=\"1\" class=\"dataframe\">\n",
              "  <thead>\n",
              "    <tr style=\"text-align: right;\">\n",
              "      <th></th>\n",
              "      <th>date</th>\n",
              "      <th>PRCP</th>\n",
              "      <th>SNOW</th>\n",
              "      <th>SNWD</th>\n",
              "      <th>TMAX</th>\n",
              "      <th>TMIN</th>\n",
              "      <th>TOBS</th>\n",
              "      <th>inclement_weather</th>\n",
              "      <th>WESF</th>\n",
              "    </tr>\n",
              "  </thead>\n",
              "  <tbody>\n",
              "    <tr>\n",
              "      <th>0</th>\n",
              "      <td>2018-01-01T00:00:00</td>\n",
              "      <td>0.0</td>\n",
              "      <td>0.0</td>\n",
              "      <td>-inf</td>\n",
              "      <td>22.8</td>\n",
              "      <td>0.0</td>\n",
              "      <td>11.4</td>\n",
              "      <td>NaN</td>\n",
              "      <td>0.0</td>\n",
              "    </tr>\n",
              "    <tr>\n",
              "      <th>3</th>\n",
              "      <td>2018-01-02T00:00:00</td>\n",
              "      <td>0.0</td>\n",
              "      <td>0.0</td>\n",
              "      <td>-inf</td>\n",
              "      <td>-8.3</td>\n",
              "      <td>-16.1</td>\n",
              "      <td>-12.2</td>\n",
              "      <td>False</td>\n",
              "      <td>0.0</td>\n",
              "    </tr>\n",
              "    <tr>\n",
              "      <th>6</th>\n",
              "      <td>2018-01-03T00:00:00</td>\n",
              "      <td>0.0</td>\n",
              "      <td>0.0</td>\n",
              "      <td>-inf</td>\n",
              "      <td>-4.4</td>\n",
              "      <td>-13.9</td>\n",
              "      <td>-13.3</td>\n",
              "      <td>False</td>\n",
              "      <td>0.0</td>\n",
              "    </tr>\n",
              "    <tr>\n",
              "      <th>8</th>\n",
              "      <td>2018-01-04T00:00:00</td>\n",
              "      <td>20.6</td>\n",
              "      <td>229.0</td>\n",
              "      <td>inf</td>\n",
              "      <td>22.8</td>\n",
              "      <td>0.0</td>\n",
              "      <td>11.4</td>\n",
              "      <td>True</td>\n",
              "      <td>19.3</td>\n",
              "    </tr>\n",
              "    <tr>\n",
              "      <th>11</th>\n",
              "      <td>2018-01-05T00:00:00</td>\n",
              "      <td>14.2</td>\n",
              "      <td>127.0</td>\n",
              "      <td>inf</td>\n",
              "      <td>-4.4</td>\n",
              "      <td>-13.9</td>\n",
              "      <td>-13.9</td>\n",
              "      <td>True</td>\n",
              "      <td>0.0</td>\n",
              "    </tr>\n",
              "  </tbody>\n",
              "</table>\n",
              "</div>"
            ],
            "text/plain": [
              "                   date  PRCP   SNOW  SNWD  TMAX  TMIN  TOBS  \\\n",
              "0   2018-01-01T00:00:00   0.0    0.0  -inf  22.8   0.0  11.4   \n",
              "3   2018-01-02T00:00:00   0.0    0.0  -inf  -8.3 -16.1 -12.2   \n",
              "6   2018-01-03T00:00:00   0.0    0.0  -inf  -4.4 -13.9 -13.3   \n",
              "8   2018-01-04T00:00:00  20.6  229.0   inf  22.8   0.0  11.4   \n",
              "11  2018-01-05T00:00:00  14.2  127.0   inf  -4.4 -13.9 -13.9   \n",
              "\n",
              "   inclement_weather  WESF  \n",
              "0                NaN   0.0  \n",
              "3              False   0.0  \n",
              "6              False   0.0  \n",
              "8               True  19.3  \n",
              "11              True   0.0  "
            ]
          },
          "execution_count": 57,
          "metadata": {},
          "output_type": "execute_result"
        }
      ],
      "source": [
        "df_deduped.assign(\n",
        "    TMAX=lambda x: x.TMAX.replace(5505, np.nan).fillna(x.TMAX.median()),\n",
        "    TMIN=lambda x: x.TMIN.replace(-40, np.nan).fillna(x.TMIN.median()),\n",
        "    # average of TMAX and TMIN\n",
        "    TOBS=lambda x: x.TOBS.fillna((x.TMAX + x.TMIN) / 2)\n",
        ").head()"
      ]
    },
    {
      "cell_type": "code",
      "execution_count": null,
      "id": "25ef47cf-1008-4365-aef0-0a9a92d0f9ab",
      "metadata": {
        "id": "25ef47cf-1008-4365-aef0-0a9a92d0f9ab",
        "outputId": "29f8a96c-fa82-4c34-e0b4-249776ad0228"
      },
      "outputs": [
        {
          "data": {
            "text/html": [
              "<div>\n",
              "<style scoped>\n",
              "    .dataframe tbody tr th:only-of-type {\n",
              "        vertical-align: middle;\n",
              "    }\n",
              "\n",
              "    .dataframe tbody tr th {\n",
              "        vertical-align: top;\n",
              "    }\n",
              "\n",
              "    .dataframe thead th {\n",
              "        text-align: right;\n",
              "    }\n",
              "</style>\n",
              "<table border=\"1\" class=\"dataframe\">\n",
              "  <thead>\n",
              "    <tr style=\"text-align: right;\">\n",
              "      <th></th>\n",
              "      <th>PRCP</th>\n",
              "      <th>SNOW</th>\n",
              "      <th>SNWD</th>\n",
              "      <th>TMAX</th>\n",
              "      <th>TMIN</th>\n",
              "      <th>TOBS</th>\n",
              "      <th>inclement_weather</th>\n",
              "      <th>WESF</th>\n",
              "    </tr>\n",
              "    <tr>\n",
              "      <th>date</th>\n",
              "      <th></th>\n",
              "      <th></th>\n",
              "      <th></th>\n",
              "      <th></th>\n",
              "      <th></th>\n",
              "      <th></th>\n",
              "      <th></th>\n",
              "      <th></th>\n",
              "    </tr>\n",
              "  </thead>\n",
              "  <tbody>\n",
              "    <tr>\n",
              "      <th>2018-01-01T00:00:00</th>\n",
              "      <td>0.0</td>\n",
              "      <td>0.0</td>\n",
              "      <td>-inf</td>\n",
              "      <td>NaN</td>\n",
              "      <td>NaN</td>\n",
              "      <td>NaN</td>\n",
              "      <td>NaN</td>\n",
              "      <td>0.0</td>\n",
              "    </tr>\n",
              "    <tr>\n",
              "      <th>2018-01-02T00:00:00</th>\n",
              "      <td>0.0</td>\n",
              "      <td>0.0</td>\n",
              "      <td>-inf</td>\n",
              "      <td>-8.30</td>\n",
              "      <td>-16.1</td>\n",
              "      <td>-12.20</td>\n",
              "      <td>False</td>\n",
              "      <td>0.0</td>\n",
              "    </tr>\n",
              "    <tr>\n",
              "      <th>2018-01-03T00:00:00</th>\n",
              "      <td>0.0</td>\n",
              "      <td>0.0</td>\n",
              "      <td>-inf</td>\n",
              "      <td>-4.40</td>\n",
              "      <td>-13.9</td>\n",
              "      <td>-13.30</td>\n",
              "      <td>False</td>\n",
              "      <td>0.0</td>\n",
              "    </tr>\n",
              "    <tr>\n",
              "      <th>2018-01-04T00:00:00</th>\n",
              "      <td>20.6</td>\n",
              "      <td>229.0</td>\n",
              "      <td>inf</td>\n",
              "      <td>-6.35</td>\n",
              "      <td>-15.0</td>\n",
              "      <td>-12.75</td>\n",
              "      <td>True</td>\n",
              "      <td>19.3</td>\n",
              "    </tr>\n",
              "    <tr>\n",
              "      <th>2018-01-05T00:00:00</th>\n",
              "      <td>14.2</td>\n",
              "      <td>127.0</td>\n",
              "      <td>inf</td>\n",
              "      <td>-4.40</td>\n",
              "      <td>-13.9</td>\n",
              "      <td>-13.90</td>\n",
              "      <td>True</td>\n",
              "      <td>0.0</td>\n",
              "    </tr>\n",
              "    <tr>\n",
              "      <th>2018-01-06T00:00:00</th>\n",
              "      <td>0.0</td>\n",
              "      <td>0.0</td>\n",
              "      <td>-inf</td>\n",
              "      <td>-10.00</td>\n",
              "      <td>-15.6</td>\n",
              "      <td>-15.00</td>\n",
              "      <td>False</td>\n",
              "      <td>0.0</td>\n",
              "    </tr>\n",
              "    <tr>\n",
              "      <th>2018-01-07T00:00:00</th>\n",
              "      <td>0.0</td>\n",
              "      <td>0.0</td>\n",
              "      <td>-inf</td>\n",
              "      <td>-11.70</td>\n",
              "      <td>-17.2</td>\n",
              "      <td>-16.10</td>\n",
              "      <td>False</td>\n",
              "      <td>0.0</td>\n",
              "    </tr>\n",
              "    <tr>\n",
              "      <th>2018-01-08T00:00:00</th>\n",
              "      <td>0.0</td>\n",
              "      <td>0.0</td>\n",
              "      <td>-inf</td>\n",
              "      <td>-7.80</td>\n",
              "      <td>-16.7</td>\n",
              "      <td>-8.30</td>\n",
              "      <td>False</td>\n",
              "      <td>0.0</td>\n",
              "    </tr>\n",
              "    <tr>\n",
              "      <th>2018-01-10T00:00:00</th>\n",
              "      <td>0.0</td>\n",
              "      <td>0.0</td>\n",
              "      <td>-inf</td>\n",
              "      <td>5.00</td>\n",
              "      <td>-7.8</td>\n",
              "      <td>-7.80</td>\n",
              "      <td>False</td>\n",
              "      <td>0.0</td>\n",
              "    </tr>\n",
              "    <tr>\n",
              "      <th>2018-01-11T00:00:00</th>\n",
              "      <td>0.0</td>\n",
              "      <td>0.0</td>\n",
              "      <td>-inf</td>\n",
              "      <td>4.40</td>\n",
              "      <td>-7.8</td>\n",
              "      <td>1.10</td>\n",
              "      <td>False</td>\n",
              "      <td>0.0</td>\n",
              "    </tr>\n",
              "  </tbody>\n",
              "</table>\n",
              "</div>"
            ],
            "text/plain": [
              "                     PRCP   SNOW  SNWD   TMAX  TMIN   TOBS inclement_weather  \\\n",
              "date                                                                           \n",
              "2018-01-01T00:00:00   0.0    0.0  -inf    NaN   NaN    NaN               NaN   \n",
              "2018-01-02T00:00:00   0.0    0.0  -inf  -8.30 -16.1 -12.20             False   \n",
              "2018-01-03T00:00:00   0.0    0.0  -inf  -4.40 -13.9 -13.30             False   \n",
              "2018-01-04T00:00:00  20.6  229.0   inf  -6.35 -15.0 -12.75              True   \n",
              "2018-01-05T00:00:00  14.2  127.0   inf  -4.40 -13.9 -13.90              True   \n",
              "2018-01-06T00:00:00   0.0    0.0  -inf -10.00 -15.6 -15.00             False   \n",
              "2018-01-07T00:00:00   0.0    0.0  -inf -11.70 -17.2 -16.10             False   \n",
              "2018-01-08T00:00:00   0.0    0.0  -inf  -7.80 -16.7  -8.30             False   \n",
              "2018-01-10T00:00:00   0.0    0.0  -inf   5.00  -7.8  -7.80             False   \n",
              "2018-01-11T00:00:00   0.0    0.0  -inf   4.40  -7.8   1.10             False   \n",
              "\n",
              "                     WESF  \n",
              "date                       \n",
              "2018-01-01T00:00:00   0.0  \n",
              "2018-01-02T00:00:00   0.0  \n",
              "2018-01-03T00:00:00   0.0  \n",
              "2018-01-04T00:00:00  19.3  \n",
              "2018-01-05T00:00:00   0.0  \n",
              "2018-01-06T00:00:00   0.0  \n",
              "2018-01-07T00:00:00   0.0  \n",
              "2018-01-08T00:00:00   0.0  \n",
              "2018-01-10T00:00:00   0.0  \n",
              "2018-01-11T00:00:00   0.0  "
            ]
          },
          "execution_count": 59,
          "metadata": {},
          "output_type": "execute_result"
        }
      ],
      "source": [
        "df_deduped.assign(\n",
        "    # make TMAX and TMIN NaN where appropriate\n",
        "    TMAX=lambda x: x.TMAX.replace(5505, np.nan),\n",
        "    TMIN=lambda x: x.TMIN.replace(-40, np.nan)\n",
        ").set_index('date').apply(\n",
        "    # rolling calculations will be covered in chapter 4, this is a rolling 7 day median\n",
        "    # we set min_periods (# of periods required for calculation) to 0 so we always get a result\n",
        "    lambda x: x.fillna(x.rolling(7, min_periods=0).median())\n",
        ").head(10)"
      ]
    },
    {
      "cell_type": "code",
      "execution_count": null,
      "id": "b8169091-ca8a-41f9-81e9-70885185f126",
      "metadata": {
        "id": "b8169091-ca8a-41f9-81e9-70885185f126",
        "outputId": "d83827a1-61f3-4e01-9927-437912857c21"
      },
      "outputs": [
        {
          "name": "stderr",
          "output_type": "stream",
          "text": [
            "C:\\Users\\Daryll\\AppData\\Local\\Temp\\ipykernel_10448\\1468979527.py:9: FutureWarning: Series.interpolate with object dtype is deprecated and will raise in a future version. Call obj.infer_objects(copy=False) before interpolating instead.\n",
            "  lambda x: x.interpolate()\n"
          ]
        },
        {
          "data": {
            "text/html": [
              "<div>\n",
              "<style scoped>\n",
              "    .dataframe tbody tr th:only-of-type {\n",
              "        vertical-align: middle;\n",
              "    }\n",
              "\n",
              "    .dataframe tbody tr th {\n",
              "        vertical-align: top;\n",
              "    }\n",
              "\n",
              "    .dataframe thead th {\n",
              "        text-align: right;\n",
              "    }\n",
              "</style>\n",
              "<table border=\"1\" class=\"dataframe\">\n",
              "  <thead>\n",
              "    <tr style=\"text-align: right;\">\n",
              "      <th></th>\n",
              "      <th>PRCP</th>\n",
              "      <th>SNOW</th>\n",
              "      <th>SNWD</th>\n",
              "      <th>TMAX</th>\n",
              "      <th>TMIN</th>\n",
              "      <th>TOBS</th>\n",
              "      <th>inclement_weather</th>\n",
              "      <th>WESF</th>\n",
              "    </tr>\n",
              "  </thead>\n",
              "  <tbody>\n",
              "    <tr>\n",
              "      <th>2018-01-01</th>\n",
              "      <td>0.0</td>\n",
              "      <td>0.0</td>\n",
              "      <td>-inf</td>\n",
              "      <td>NaN</td>\n",
              "      <td>NaN</td>\n",
              "      <td>NaN</td>\n",
              "      <td>NaN</td>\n",
              "      <td>0.0</td>\n",
              "    </tr>\n",
              "    <tr>\n",
              "      <th>2018-01-02</th>\n",
              "      <td>0.0</td>\n",
              "      <td>0.0</td>\n",
              "      <td>-inf</td>\n",
              "      <td>-8.3</td>\n",
              "      <td>-16.10</td>\n",
              "      <td>-12.20</td>\n",
              "      <td>False</td>\n",
              "      <td>0.0</td>\n",
              "    </tr>\n",
              "    <tr>\n",
              "      <th>2018-01-03</th>\n",
              "      <td>0.0</td>\n",
              "      <td>0.0</td>\n",
              "      <td>-inf</td>\n",
              "      <td>-4.4</td>\n",
              "      <td>-13.90</td>\n",
              "      <td>-13.30</td>\n",
              "      <td>False</td>\n",
              "      <td>0.0</td>\n",
              "    </tr>\n",
              "    <tr>\n",
              "      <th>2018-01-04</th>\n",
              "      <td>20.6</td>\n",
              "      <td>229.0</td>\n",
              "      <td>inf</td>\n",
              "      <td>-4.4</td>\n",
              "      <td>-13.90</td>\n",
              "      <td>-13.60</td>\n",
              "      <td>True</td>\n",
              "      <td>19.3</td>\n",
              "    </tr>\n",
              "    <tr>\n",
              "      <th>2018-01-05</th>\n",
              "      <td>14.2</td>\n",
              "      <td>127.0</td>\n",
              "      <td>inf</td>\n",
              "      <td>-4.4</td>\n",
              "      <td>-13.90</td>\n",
              "      <td>-13.90</td>\n",
              "      <td>True</td>\n",
              "      <td>0.0</td>\n",
              "    </tr>\n",
              "    <tr>\n",
              "      <th>2018-01-06</th>\n",
              "      <td>0.0</td>\n",
              "      <td>0.0</td>\n",
              "      <td>-inf</td>\n",
              "      <td>-10.0</td>\n",
              "      <td>-15.60</td>\n",
              "      <td>-15.00</td>\n",
              "      <td>False</td>\n",
              "      <td>0.0</td>\n",
              "    </tr>\n",
              "    <tr>\n",
              "      <th>2018-01-07</th>\n",
              "      <td>0.0</td>\n",
              "      <td>0.0</td>\n",
              "      <td>-inf</td>\n",
              "      <td>-11.7</td>\n",
              "      <td>-17.20</td>\n",
              "      <td>-16.10</td>\n",
              "      <td>False</td>\n",
              "      <td>0.0</td>\n",
              "    </tr>\n",
              "    <tr>\n",
              "      <th>2018-01-08</th>\n",
              "      <td>0.0</td>\n",
              "      <td>0.0</td>\n",
              "      <td>-inf</td>\n",
              "      <td>-7.8</td>\n",
              "      <td>-16.70</td>\n",
              "      <td>-8.30</td>\n",
              "      <td>False</td>\n",
              "      <td>0.0</td>\n",
              "    </tr>\n",
              "    <tr>\n",
              "      <th>2018-01-09</th>\n",
              "      <td>0.0</td>\n",
              "      <td>0.0</td>\n",
              "      <td>-inf</td>\n",
              "      <td>-1.4</td>\n",
              "      <td>-12.25</td>\n",
              "      <td>-8.05</td>\n",
              "      <td>NaN</td>\n",
              "      <td>0.0</td>\n",
              "    </tr>\n",
              "    <tr>\n",
              "      <th>2018-01-10</th>\n",
              "      <td>0.0</td>\n",
              "      <td>0.0</td>\n",
              "      <td>-inf</td>\n",
              "      <td>5.0</td>\n",
              "      <td>-7.80</td>\n",
              "      <td>-7.80</td>\n",
              "      <td>False</td>\n",
              "      <td>0.0</td>\n",
              "    </tr>\n",
              "  </tbody>\n",
              "</table>\n",
              "</div>"
            ],
            "text/plain": [
              "            PRCP   SNOW  SNWD  TMAX   TMIN   TOBS inclement_weather  WESF\n",
              "2018-01-01   0.0    0.0  -inf   NaN    NaN    NaN               NaN   0.0\n",
              "2018-01-02   0.0    0.0  -inf  -8.3 -16.10 -12.20             False   0.0\n",
              "2018-01-03   0.0    0.0  -inf  -4.4 -13.90 -13.30             False   0.0\n",
              "2018-01-04  20.6  229.0   inf  -4.4 -13.90 -13.60              True  19.3\n",
              "2018-01-05  14.2  127.0   inf  -4.4 -13.90 -13.90              True   0.0\n",
              "2018-01-06   0.0    0.0  -inf -10.0 -15.60 -15.00             False   0.0\n",
              "2018-01-07   0.0    0.0  -inf -11.7 -17.20 -16.10             False   0.0\n",
              "2018-01-08   0.0    0.0  -inf  -7.8 -16.70  -8.30             False   0.0\n",
              "2018-01-09   0.0    0.0  -inf  -1.4 -12.25  -8.05               NaN   0.0\n",
              "2018-01-10   0.0    0.0  -inf   5.0  -7.80  -7.80             False   0.0"
            ]
          },
          "execution_count": 61,
          "metadata": {},
          "output_type": "execute_result"
        }
      ],
      "source": [
        "df_deduped.assign(\n",
        "    # make TMAX and TMIN NaN where appropriate\n",
        "    TMAX=lambda x: x.TMAX.replace(5505, np.nan),\n",
        "    TMIN=lambda x: x.TMIN.replace(-40, np.nan),\n",
        "    date=lambda x: pd.to_datetime(x.date)\n",
        ").set_index('date').reindex(\n",
        "    pd.date_range('2018-01-01', '2018-12-31', freq='D')\n",
        ").apply(\n",
        "    lambda x: x.interpolate()\n",
        ").head(10)"
      ]
    }
  ],
  "metadata": {
    "kernelspec": {
      "display_name": "Python [conda env:base] *",
      "language": "python",
      "name": "conda-base-py"
    },
    "language_info": {
      "codemirror_mode": {
        "name": "ipython",
        "version": 3
      },
      "file_extension": ".py",
      "mimetype": "text/x-python",
      "name": "python",
      "nbconvert_exporter": "python",
      "pygments_lexer": "ipython3",
      "version": "3.12.7"
    },
    "colab": {
      "provenance": [],
      "include_colab_link": true
    }
  },
  "nbformat": 4,
  "nbformat_minor": 5
}